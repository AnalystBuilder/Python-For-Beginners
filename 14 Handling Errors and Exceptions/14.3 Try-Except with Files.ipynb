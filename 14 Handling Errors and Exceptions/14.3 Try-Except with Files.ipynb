{
 "cells": [
  {
   "cell_type": "markdown",
   "id": "f4efd5c7",
   "metadata": {},
   "source": [
    "# Try/Except with Files"
   ]
  },
  {
   "cell_type": "code",
   "execution_count": 3,
   "id": "f35bd9ab",
   "metadata": {},
   "outputs": [
    {
     "ename": "FileNotFoundError",
     "evalue": "[Errno 2] No such file or directory: 'C:\\\\Users\\\\alexf\\\\OneDrive\\\\Documents\\\\Python Tutorials\\\\TryExceptFolder\\\\Main File2.txt'",
     "output_type": "error",
     "traceback": [
      "\u001b[1;31m---------------------------------------------------------------------------\u001b[0m",
      "\u001b[1;31mFileNotFoundError\u001b[0m                         Traceback (most recent call last)",
      "\u001b[1;32m~\\AppData\\Local\\Temp\\ipykernel_1322084\\120735394.py\u001b[0m in \u001b[0;36m<module>\u001b[1;34m\u001b[0m\n\u001b[1;32m----> 1\u001b[1;33m \u001b[0mopen_file\u001b[0m \u001b[1;33m=\u001b[0m \u001b[0mopen\u001b[0m\u001b[1;33m(\u001b[0m\u001b[1;34mr'C:\\Users\\alexf\\OneDrive\\Documents\\Python Tutorials\\TryExceptFolder\\Main File2.txt'\u001b[0m\u001b[1;33m,\u001b[0m \u001b[1;34m'r'\u001b[0m\u001b[1;33m)\u001b[0m\u001b[1;33m\u001b[0m\u001b[1;33m\u001b[0m\u001b[0m\n\u001b[0m",
      "\u001b[1;31mFileNotFoundError\u001b[0m: [Errno 2] No such file or directory: 'C:\\\\Users\\\\alexf\\\\OneDrive\\\\Documents\\\\Python Tutorials\\\\TryExceptFolder\\\\Main File2.txt'"
     ]
    }
   ],
   "source": [
    "open_file = open(r'C:\\Users\\alexf\\OneDrive\\Documents\\Python Tutorials\\TryExceptFolder\\Main File2.txt', 'r')"
   ]
  },
  {
   "cell_type": "code",
   "execution_count": 4,
   "id": "8fd9312e",
   "metadata": {},
   "outputs": [
    {
     "name": "stdout",
     "output_type": "stream",
     "text": [
      "No File Found\n"
     ]
    }
   ],
   "source": [
    "\n",
    "#Bginning\n",
    "try:\n",
    "    open_file = open(r'C:\\Users\\alexf\\OneDrive\\Documents\\Python Tutorials\\TryExceptFolder\\New Data1.txt', 'r')\n",
    "except FileNotFoundError:\n",
    "    print('No File Found')\n",
    "except Exception as e:\n",
    "    print(e)\n",
    "   \n",
    "\n",
    "#End\n",
    "with open(r'C:\\Users\\alexf\\OneDrive\\Documents\\Python Tutorials\\TryExceptFolder\\Main File.txt', 'r') as read_file:\n",
    "    print(read_file.read())"
   ]
  },
  {
   "cell_type": "code",
   "execution_count": 5,
   "id": "b6dcaa5d",
   "metadata": {},
   "outputs": [],
   "source": [
    "import os"
   ]
  },
  {
   "cell_type": "code",
   "execution_count": 9,
   "id": "fb158dec",
   "metadata": {},
   "outputs": [
    {
     "ename": "FileNotFoundError",
     "evalue": "[Errno 2] No such file or directory: 'C:\\\\Users\\\\alexf\\\\OneDrive\\\\Documents\\\\Python Tutorials\\\\TryExceptFolder\\\\New Data92.txt'",
     "output_type": "error",
     "traceback": [
      "\u001b[1;31m---------------------------------------------------------------------------\u001b[0m",
      "\u001b[1;31mFileNotFoundError\u001b[0m                         Traceback (most recent call last)",
      "\u001b[1;32m~\\AppData\\Local\\Temp\\ipykernel_1322084\\1604016446.py\u001b[0m in \u001b[0;36m<module>\u001b[1;34m\u001b[0m\n\u001b[0;32m      7\u001b[0m     \u001b[0mprint\u001b[0m\u001b[1;33m(\u001b[0m\u001b[0me\u001b[0m\u001b[1;33m)\u001b[0m\u001b[1;33m\u001b[0m\u001b[1;33m\u001b[0m\u001b[0m\n\u001b[0;32m      8\u001b[0m \u001b[1;32melse\u001b[0m\u001b[1;33m:\u001b[0m\u001b[1;33m\u001b[0m\u001b[1;33m\u001b[0m\u001b[0m\n\u001b[1;32m----> 9\u001b[1;33m     \u001b[1;32mwith\u001b[0m \u001b[0mopen\u001b[0m\u001b[1;33m(\u001b[0m\u001b[1;34mr'C:\\Users\\alexf\\OneDrive\\Documents\\Python Tutorials\\TryExceptFolder\\New Data92.txt'\u001b[0m\u001b[1;33m,\u001b[0m \u001b[1;34m'r'\u001b[0m\u001b[1;33m)\u001b[0m \u001b[1;32mas\u001b[0m \u001b[0mread_file\u001b[0m\u001b[1;33m:\u001b[0m\u001b[1;33m\u001b[0m\u001b[1;33m\u001b[0m\u001b[0m\n\u001b[0m\u001b[0;32m     10\u001b[0m         \u001b[0mappend_to_main\u001b[0m \u001b[1;33m=\u001b[0m \u001b[0mread_file\u001b[0m\u001b[1;33m.\u001b[0m\u001b[0mread\u001b[0m\u001b[1;33m(\u001b[0m\u001b[1;33m)\u001b[0m\u001b[1;33m\u001b[0m\u001b[1;33m\u001b[0m\u001b[0m\n\u001b[0;32m     11\u001b[0m         \u001b[0mprint\u001b[0m\u001b[1;33m(\u001b[0m\u001b[1;34m'Variable Created'\u001b[0m\u001b[1;33m)\u001b[0m\u001b[1;33m\u001b[0m\u001b[1;33m\u001b[0m\u001b[0m\n",
      "\u001b[1;31mFileNotFoundError\u001b[0m: [Errno 2] No such file or directory: 'C:\\\\Users\\\\alexf\\\\OneDrive\\\\Documents\\\\Python Tutorials\\\\TryExceptFolder\\\\New Data92.txt'"
     ]
    }
   ],
   "source": [
    "try:\n",
    "    if os.path.exists(r'C:\\Users\\alexf\\OneDrive\\Documents\\Python Tutorials\\TryExceptFolder\\New Data92.txt'):\n",
    "        print('It Exists!')\n",
    "except FileNotFoundError:\n",
    "    print('No File Found')\n",
    "except Exception as e:\n",
    "    print(e)\n",
    "else:\n",
    "    with open(r'C:\\Users\\alexf\\OneDrive\\Documents\\Python Tutorials\\TryExceptFolder\\New Data92.txt', 'r') as read_file:\n",
    "        append_to_main = read_file.read()\n",
    "        print('Variable Created')\n",
    "    with open(r'C:\\Users\\alexf\\OneDrive\\Documents\\Python Tutorials\\TryExceptFolder\\Main File.txt', 'a') as main_file:\n",
    "        main_file.write(append_to_main)\n",
    "    \n",
    "with open(r'C:\\Users\\alexf\\OneDrive\\Documents\\Python Tutorials\\TryExceptFolder\\Main File.txt', 'r') as main_file:\n",
    "        print(main_file.read())   \n",
    "    "
   ]
  },
  {
   "cell_type": "code",
   "execution_count": 10,
   "id": "0311065f",
   "metadata": {},
   "outputs": [
    {
     "name": "stdout",
     "output_type": "stream",
     "text": [
      "No File Found\n",
      "This is from my Main File.\n",
      "This is from File 1.\n",
      "This is from File 1.\n",
      "\n"
     ]
    }
   ],
   "source": [
    "try:\n",
    "    with open(r'C:\\Users\\alexf\\OneDrive\\Documents\\Python Tutorials\\TryExceptFolder\\New Data1.txt', 'r') as read_file:\n",
    "        append_to_main = read_file.read()\n",
    "        print('Variable Created')\n",
    "except FileNotFoundError:\n",
    "    print('No File Found')\n",
    "except Exception as e:\n",
    "    print(e)\n",
    "else:\n",
    "    with open(r'C:\\Users\\alexf\\OneDrive\\Documents\\Python Tutorials\\TryExceptFolder\\Main File.txt', 'a') as main_file:\n",
    "        main_file.write(append_to_main)\n",
    "    \n",
    "with open(r'C:\\Users\\alexf\\OneDrive\\Documents\\Python Tutorials\\TryExceptFolder\\Main File.txt', 'r') as main_file:\n",
    "        print(main_file.read())  "
   ]
  },
  {
   "cell_type": "code",
   "execution_count": null,
   "id": "c96392c5",
   "metadata": {},
   "outputs": [],
   "source": [
    "#If the file exists in this directory\n",
    "#for file_name in directory:\n",
    "    file_name = file_name[0]\n",
    "\n",
    "\n",
    "try:\n",
    "    with open(r'C:\\Users\\alexf\\OneDrive\\Documents\\Python Tutorials\\TryExceptFolder\\'' + file_name    +'.txt', 'r') as read_file:\n",
    "        append_to_main = read_file.read()\n",
    "        print('Variable Created')\n",
    "except FileNotFoundError:\n",
    "    print('No File Found')\n",
    "except Exception as e:\n",
    "    print(e)\n",
    "else:\n",
    "    with open(r'C:\\Users\\alexf\\OneDrive\\Documents\\Python Tutorials\\TryExceptFolder\\Main File.txt', 'a') as main_file:\n",
    "        main_file.write(append_to_main)\n",
    "    \n",
    "with open(r'C:\\Users\\alexf\\OneDrive\\Documents\\Python Tutorials\\TryExceptFolder\\Main File.txt', 'r') as main_file:\n",
    "        print(main_file.read())  "
   ]
  },
  {
   "cell_type": "code",
   "execution_count": null,
   "id": "bd798e28",
   "metadata": {},
   "outputs": [],
   "source": []
  },
  {
   "cell_type": "code",
   "execution_count": null,
   "id": "92f869a1",
   "metadata": {},
   "outputs": [],
   "source": []
  },
  {
   "cell_type": "code",
   "execution_count": null,
   "id": "7a75f6c3",
   "metadata": {},
   "outputs": [],
   "source": []
  },
  {
   "cell_type": "code",
   "execution_count": null,
   "id": "f00c12fd",
   "metadata": {},
   "outputs": [],
   "source": []
  },
  {
   "cell_type": "code",
   "execution_count": null,
   "id": "728b6f1b",
   "metadata": {},
   "outputs": [],
   "source": []
  },
  {
   "cell_type": "code",
   "execution_count": null,
   "id": "dc49d269",
   "metadata": {},
   "outputs": [],
   "source": []
  },
  {
   "cell_type": "code",
   "execution_count": null,
   "id": "8fab8dce",
   "metadata": {},
   "outputs": [],
   "source": []
  },
  {
   "cell_type": "code",
   "execution_count": null,
   "id": "4630138c",
   "metadata": {},
   "outputs": [],
   "source": []
  },
  {
   "cell_type": "code",
   "execution_count": null,
   "id": "27fc7a5b",
   "metadata": {},
   "outputs": [],
   "source": []
  },
  {
   "cell_type": "code",
   "execution_count": null,
   "id": "6dab2379",
   "metadata": {},
   "outputs": [],
   "source": []
  },
  {
   "cell_type": "code",
   "execution_count": null,
   "id": "d57dccd0",
   "metadata": {},
   "outputs": [],
   "source": []
  },
  {
   "cell_type": "code",
   "execution_count": null,
   "id": "cec88055",
   "metadata": {},
   "outputs": [],
   "source": []
  },
  {
   "cell_type": "code",
   "execution_count": null,
   "id": "d9d371d6",
   "metadata": {},
   "outputs": [],
   "source": []
  },
  {
   "cell_type": "code",
   "execution_count": null,
   "id": "8ac0e6a5",
   "metadata": {},
   "outputs": [],
   "source": []
  },
  {
   "cell_type": "code",
   "execution_count": null,
   "id": "b5775c36",
   "metadata": {},
   "outputs": [],
   "source": []
  },
  {
   "cell_type": "code",
   "execution_count": null,
   "id": "e214ede3",
   "metadata": {},
   "outputs": [],
   "source": []
  },
  {
   "cell_type": "code",
   "execution_count": null,
   "id": "74538f0f",
   "metadata": {},
   "outputs": [],
   "source": []
  },
  {
   "cell_type": "code",
   "execution_count": null,
   "id": "8d687a77",
   "metadata": {},
   "outputs": [],
   "source": []
  },
  {
   "cell_type": "code",
   "execution_count": null,
   "id": "48a5bbb2",
   "metadata": {},
   "outputs": [],
   "source": []
  },
  {
   "cell_type": "code",
   "execution_count": null,
   "id": "d63505ee",
   "metadata": {},
   "outputs": [],
   "source": []
  },
  {
   "cell_type": "code",
   "execution_count": null,
   "id": "6ab9c696",
   "metadata": {},
   "outputs": [],
   "source": []
  },
  {
   "cell_type": "code",
   "execution_count": null,
   "id": "5a31e394",
   "metadata": {},
   "outputs": [],
   "source": []
  },
  {
   "cell_type": "code",
   "execution_count": null,
   "id": "e4d544b3",
   "metadata": {},
   "outputs": [],
   "source": []
  }
 ],
 "metadata": {
  "kernelspec": {
   "display_name": "Python 3 (ipykernel)",
   "language": "python",
   "name": "python3"
  },
  "language_info": {
   "codemirror_mode": {
    "name": "ipython",
    "version": 3
   },
   "file_extension": ".py",
   "mimetype": "text/x-python",
   "name": "python",
   "nbconvert_exporter": "python",
   "pygments_lexer": "ipython3",
   "version": "3.9.13"
  }
 },
 "nbformat": 4,
 "nbformat_minor": 5
}
