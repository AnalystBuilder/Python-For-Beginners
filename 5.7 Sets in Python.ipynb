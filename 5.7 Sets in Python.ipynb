{
 "cells": [
  {
   "cell_type": "markdown",
   "id": "ec8be488",
   "metadata": {},
   "source": [
    "# Set"
   ]
  },
  {
   "cell_type": "code",
   "execution_count": 1,
   "id": "02afa8b7",
   "metadata": {},
   "outputs": [],
   "source": [
    "first_set = {1,3, 'Country'}"
   ]
  },
  {
   "cell_type": "code",
   "execution_count": 2,
   "id": "39d47e8d",
   "metadata": {},
   "outputs": [
    {
     "data": {
      "text/plain": [
       "set"
      ]
     },
     "execution_count": 2,
     "metadata": {},
     "output_type": "execute_result"
    }
   ],
   "source": [
    "type(first_set)"
   ]
  },
  {
   "cell_type": "code",
   "execution_count": 3,
   "id": "9a4bbb2b",
   "metadata": {},
   "outputs": [
    {
     "name": "stdout",
     "output_type": "stream",
     "text": [
      "{1, 'Country', 3}\n"
     ]
    }
   ],
   "source": [
    "print(first_set)"
   ]
  },
  {
   "cell_type": "code",
   "execution_count": 4,
   "id": "02218f1d",
   "metadata": {},
   "outputs": [],
   "source": [
    "second_set = {1,3, 'Country', 1, 3, 5, 'States'}"
   ]
  },
  {
   "cell_type": "code",
   "execution_count": 5,
   "id": "a68dddc7",
   "metadata": {},
   "outputs": [
    {
     "name": "stdout",
     "output_type": "stream",
     "text": [
      "{1, 'States', 3, 5, 'Country'}\n"
     ]
    }
   ],
   "source": [
    "print(second_set)"
   ]
  },
  {
   "cell_type": "code",
   "execution_count": 6,
   "id": "ee757dd9",
   "metadata": {},
   "outputs": [
    {
     "ename": "TypeError",
     "evalue": "unhashable type: 'list'",
     "output_type": "error",
     "traceback": [
      "\u001b[1;31m---------------------------------------------------------------------------\u001b[0m",
      "\u001b[1;31mTypeError\u001b[0m                                 Traceback (most recent call last)",
      "\u001b[1;32m~\\AppData\\Local\\Temp\\ipykernel_398284\\541338688.py\u001b[0m in \u001b[0;36m<module>\u001b[1;34m\u001b[0m\n\u001b[1;32m----> 1\u001b[1;33m \u001b[0mthird_set\u001b[0m \u001b[1;33m=\u001b[0m \u001b[1;33m{\u001b[0m\u001b[1;36m1\u001b[0m\u001b[1;33m,\u001b[0m\u001b[1;36m3\u001b[0m\u001b[1;33m,\u001b[0m \u001b[1;34m'Country'\u001b[0m\u001b[1;33m,\u001b[0m \u001b[1;36m1\u001b[0m\u001b[1;33m,\u001b[0m \u001b[1;36m3\u001b[0m\u001b[1;33m,\u001b[0m \u001b[1;36m5\u001b[0m\u001b[1;33m,\u001b[0m \u001b[1;34m'States'\u001b[0m\u001b[1;33m,\u001b[0m \u001b[1;33m[\u001b[0m\u001b[1;36m1\u001b[0m\u001b[1;33m,\u001b[0m\u001b[1;36m2\u001b[0m\u001b[1;33m,\u001b[0m\u001b[1;36m3\u001b[0m\u001b[1;33m]\u001b[0m\u001b[1;33m}\u001b[0m\u001b[1;33m\u001b[0m\u001b[1;33m\u001b[0m\u001b[0m\n\u001b[0m",
      "\u001b[1;31mTypeError\u001b[0m: unhashable type: 'list'"
     ]
    }
   ],
   "source": [
    "third_set = {1,3, 'Country', 1, 3, 5, 'States', [1,2,3]}"
   ]
  },
  {
   "cell_type": "code",
   "execution_count": 14,
   "id": "a65880ee",
   "metadata": {},
   "outputs": [],
   "source": [
    "third_set = {1,3, 'Country', 1, 3, 5, 'States', (1,2,3)}"
   ]
  },
  {
   "cell_type": "code",
   "execution_count": 15,
   "id": "021d9015",
   "metadata": {},
   "outputs": [
    {
     "name": "stdout",
     "output_type": "stream",
     "text": [
      "{1, 'States', 3, 5, 'Country', (1, 2, 3)}\n"
     ]
    }
   ],
   "source": [
    "print(third_set)"
   ]
  },
  {
   "cell_type": "code",
   "execution_count": 12,
   "id": "bfd63a2e",
   "metadata": {},
   "outputs": [],
   "source": [
    "third_set.update('Spain')"
   ]
  },
  {
   "cell_type": "code",
   "execution_count": 13,
   "id": "af1c767e",
   "metadata": {},
   "outputs": [
    {
     "name": "stdout",
     "output_type": "stream",
     "text": [
      "{'i', 1, 'States', 3, 'n', 5, 'S', 'Country', 'a', (1, 2, 3), 'p'}\n"
     ]
    }
   ],
   "source": [
    "print(third_set)"
   ]
  },
  {
   "cell_type": "code",
   "execution_count": 16,
   "id": "01ca0cdb",
   "metadata": {},
   "outputs": [],
   "source": [
    "third_set.update([1,2,3])"
   ]
  },
  {
   "cell_type": "code",
   "execution_count": 17,
   "id": "f2567ab2",
   "metadata": {},
   "outputs": [
    {
     "name": "stdout",
     "output_type": "stream",
     "text": [
      "{1, 'States', 3, 2, 5, 'Country', (1, 2, 3)}\n"
     ]
    }
   ],
   "source": [
    "print(third_set)"
   ]
  },
  {
   "cell_type": "code",
   "execution_count": 18,
   "id": "a3dd211e",
   "metadata": {},
   "outputs": [],
   "source": [
    "third_set.add('Spain')"
   ]
  },
  {
   "cell_type": "code",
   "execution_count": 19,
   "id": "cae6c76b",
   "metadata": {},
   "outputs": [
    {
     "name": "stdout",
     "output_type": "stream",
     "text": [
      "{1, 'States', 3, 2, 5, 'Spain', 'Country', (1, 2, 3)}\n"
     ]
    }
   ],
   "source": [
    "print(third_set)"
   ]
  },
  {
   "cell_type": "code",
   "execution_count": 20,
   "id": "1f5d587f",
   "metadata": {},
   "outputs": [],
   "source": [
    "third_set.discard('Spain')"
   ]
  },
  {
   "cell_type": "code",
   "execution_count": 21,
   "id": "47c10028",
   "metadata": {},
   "outputs": [
    {
     "name": "stdout",
     "output_type": "stream",
     "text": [
      "{1, 'States', 3, 2, 5, 'Country', (1, 2, 3)}\n"
     ]
    }
   ],
   "source": [
    "print(third_set)"
   ]
  },
  {
   "cell_type": "code",
   "execution_count": 22,
   "id": "523563a8",
   "metadata": {},
   "outputs": [],
   "source": [
    "third_set.discard('Spain')"
   ]
  },
  {
   "cell_type": "code",
   "execution_count": 23,
   "id": "fa39bfcf",
   "metadata": {},
   "outputs": [
    {
     "name": "stdout",
     "output_type": "stream",
     "text": [
      "{1, 'States', 3, 2, 5, 'Country', (1, 2, 3)}\n"
     ]
    }
   ],
   "source": [
    "print(third_set)"
   ]
  },
  {
   "cell_type": "code",
   "execution_count": 24,
   "id": "313e7ab3",
   "metadata": {},
   "outputs": [],
   "source": [
    "third_set.remove('Country')"
   ]
  },
  {
   "cell_type": "code",
   "execution_count": 25,
   "id": "0cf2519a",
   "metadata": {},
   "outputs": [
    {
     "name": "stdout",
     "output_type": "stream",
     "text": [
      "{1, 'States', 3, 2, 5, (1, 2, 3)}\n"
     ]
    }
   ],
   "source": [
    "print(third_set)"
   ]
  },
  {
   "cell_type": "code",
   "execution_count": 26,
   "id": "89e93399",
   "metadata": {},
   "outputs": [
    {
     "ename": "KeyError",
     "evalue": "'Country'",
     "output_type": "error",
     "traceback": [
      "\u001b[1;31m---------------------------------------------------------------------------\u001b[0m",
      "\u001b[1;31mKeyError\u001b[0m                                  Traceback (most recent call last)",
      "\u001b[1;32m~\\AppData\\Local\\Temp\\ipykernel_398284\\1689693699.py\u001b[0m in \u001b[0;36m<module>\u001b[1;34m\u001b[0m\n\u001b[1;32m----> 1\u001b[1;33m \u001b[0mthird_set\u001b[0m\u001b[1;33m.\u001b[0m\u001b[0mremove\u001b[0m\u001b[1;33m(\u001b[0m\u001b[1;34m'Country'\u001b[0m\u001b[1;33m)\u001b[0m\u001b[1;33m\u001b[0m\u001b[1;33m\u001b[0m\u001b[0m\n\u001b[0m",
      "\u001b[1;31mKeyError\u001b[0m: 'Country'"
     ]
    }
   ],
   "source": [
    "third_set.remove('Country')"
   ]
  },
  {
   "cell_type": "code",
   "execution_count": 29,
   "id": "c98a32cd",
   "metadata": {},
   "outputs": [],
   "source": [
    "set_1 = {1,2,3,4,5}\n",
    "set_2 = {4,5,6,7,8}"
   ]
  },
  {
   "cell_type": "code",
   "execution_count": 30,
   "id": "5fe8195c",
   "metadata": {},
   "outputs": [
    {
     "name": "stdout",
     "output_type": "stream",
     "text": [
      "{1, 2, 3, 4, 5, 6, 7, 8}\n"
     ]
    }
   ],
   "source": [
    "print(set_1 | set_2)"
   ]
  },
  {
   "cell_type": "code",
   "execution_count": 31,
   "id": "dc4baf8b",
   "metadata": {},
   "outputs": [
    {
     "name": "stdout",
     "output_type": "stream",
     "text": [
      "{4, 5}\n"
     ]
    }
   ],
   "source": [
    "print(set_1 & set_2)"
   ]
  },
  {
   "cell_type": "code",
   "execution_count": 33,
   "id": "45796da2",
   "metadata": {},
   "outputs": [
    {
     "name": "stdout",
     "output_type": "stream",
     "text": [
      "{8, 6, 7}\n"
     ]
    }
   ],
   "source": [
    "print(set_2 - set_1)"
   ]
  },
  {
   "cell_type": "code",
   "execution_count": 34,
   "id": "1be3d302",
   "metadata": {},
   "outputs": [
    {
     "name": "stdout",
     "output_type": "stream",
     "text": [
      "{1, 2, 3, 6, 7, 8}\n"
     ]
    }
   ],
   "source": [
    "print(set_2 ^ set_1)"
   ]
  },
  {
   "cell_type": "code",
   "execution_count": null,
   "id": "ccf9354e",
   "metadata": {},
   "outputs": [],
   "source": []
  },
  {
   "cell_type": "code",
   "execution_count": null,
   "id": "0e7069fa",
   "metadata": {},
   "outputs": [],
   "source": []
  },
  {
   "cell_type": "code",
   "execution_count": null,
   "id": "8bdab7ae",
   "metadata": {},
   "outputs": [],
   "source": []
  },
  {
   "cell_type": "code",
   "execution_count": null,
   "id": "8ff0ff81",
   "metadata": {},
   "outputs": [],
   "source": []
  },
  {
   "cell_type": "code",
   "execution_count": null,
   "id": "235d24a9",
   "metadata": {},
   "outputs": [],
   "source": []
  },
  {
   "cell_type": "code",
   "execution_count": null,
   "id": "6a0a9c06",
   "metadata": {},
   "outputs": [],
   "source": []
  },
  {
   "cell_type": "code",
   "execution_count": null,
   "id": "86593308",
   "metadata": {},
   "outputs": [],
   "source": []
  },
  {
   "cell_type": "code",
   "execution_count": null,
   "id": "1c8a6cdc",
   "metadata": {},
   "outputs": [],
   "source": []
  }
 ],
 "metadata": {
  "kernelspec": {
   "display_name": "Python 3 (ipykernel)",
   "language": "python",
   "name": "python3"
  },
  "language_info": {
   "codemirror_mode": {
    "name": "ipython",
    "version": 3
   },
   "file_extension": ".py",
   "mimetype": "text/x-python",
   "name": "python",
   "nbconvert_exporter": "python",
   "pygments_lexer": "ipython3",
   "version": "3.9.13"
  }
 },
 "nbformat": 4,
 "nbformat_minor": 5
}
