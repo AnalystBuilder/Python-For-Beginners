{
 "cells": [
  {
   "attachments": {},
   "cell_type": "markdown",
   "id": "9f741fe2",
   "metadata": {},
   "source": [
    "# Regex Character Classes (Special Sequences)\n",
    "\n",
    "\n",
    "\n",
    "\n",
    "\n",
    "\n"
   ]
  },
  {
   "cell_type": "code",
   "execution_count": 2,
   "id": "ee8ba499",
   "metadata": {},
   "outputs": [],
   "source": [
    "import re"
   ]
  },
  {
   "cell_type": "code",
   "execution_count": 6,
   "id": "f5e00cde",
   "metadata": {},
   "outputs": [
    {
     "data": {
      "text/plain": [
       "['I', 'e', 'j', 'f', 'a', 'j', 'i', 'a', 'i', 'h', 'e', 'i', 'e']"
      ]
     },
     "execution_count": 6,
     "metadata": {},
     "output_type": "execute_result"
    }
   ],
   "source": [
    "string = 'I enjoy fajitas in the winter'\n",
    "\n",
    "re.findall('[a-mA-M]',string)"
   ]
  },
  {
   "cell_type": "code",
   "execution_count": 8,
   "id": "f0224017",
   "metadata": {},
   "outputs": [
    {
     "data": {
      "text/plain": [
       "['1', '2', '3', '4']"
      ]
     },
     "execution_count": 8,
     "metadata": {},
     "output_type": "execute_result"
    }
   ],
   "source": [
    "string = 'I have 123,456 cats!'\n",
    "\n",
    "re.findall('[0-4]',string)"
   ]
  },
  {
   "cell_type": "code",
   "execution_count": 10,
   "id": "90395a9a",
   "metadata": {},
   "outputs": [
    {
     "data": {
      "text/plain": [
       "['2', '3', '9', '8']"
      ]
     },
     "execution_count": 10,
     "metadata": {},
     "output_type": "execute_result"
    }
   ],
   "source": [
    "string = 'I have $2,398 dollars in my pocket'\n",
    "\n",
    "re.findall('\\d',string)"
   ]
  },
  {
   "cell_type": "code",
   "execution_count": 12,
   "id": "4b31b977",
   "metadata": {},
   "outputs": [
    {
     "data": {
      "text/plain": [
       "['hello', 'helpo']"
      ]
     },
     "execution_count": 12,
     "metadata": {},
     "output_type": "execute_result"
    }
   ],
   "source": [
    "string = 'hello hero helping helpo'\n",
    "\n",
    "re.findall('he..o',string)"
   ]
  },
  {
   "cell_type": "code",
   "execution_count": 14,
   "id": "7b43b809",
   "metadata": {},
   "outputs": [
    {
     "data": {
      "text/plain": [
       "[]"
      ]
     },
     "execution_count": 14,
     "metadata": {},
     "output_type": "execute_result"
    }
   ],
   "source": [
    "string = 'sunflowers, sundrop, and santa clause, and mushrooms are lovely. sun is lovely.'\n",
    "\n",
    "re.findall('^sun',string)"
   ]
  },
  {
   "cell_type": "code",
   "execution_count": 18,
   "id": "b185b2be",
   "metadata": {},
   "outputs": [
    {
     "data": {
      "text/plain": [
       "['on!']"
      ]
     },
     "execution_count": 18,
     "metadata": {},
     "output_type": "execute_result"
    }
   ],
   "source": [
    "string = 'I love Python!'\n",
    "\n",
    "re.findall('on!$',string)"
   ]
  },
  {
   "cell_type": "code",
   "execution_count": 19,
   "id": "ee42a9c2",
   "metadata": {},
   "outputs": [
    {
     "data": {
      "text/plain": [
       "['This Thing called a Thimble is']"
      ]
     },
     "execution_count": 19,
     "metadata": {},
     "output_type": "execute_result"
    }
   ],
   "source": [
    "string = 'This Thing called a Thimble is Thick.'\n",
    "\n",
    "re.findall('Thi.*s',string)"
   ]
  },
  {
   "cell_type": "code",
   "execution_count": 20,
   "id": "7dbcc693",
   "metadata": {},
   "outputs": [
    {
     "data": {
      "text/plain": [
       "['Helping']"
      ]
     },
     "execution_count": 20,
     "metadata": {},
     "output_type": "execute_result"
    }
   ],
   "source": [
    "string = 'Helping someone is kind'\n",
    "\n",
    "re.findall('H.+ing',string)"
   ]
  },
  {
   "cell_type": "code",
   "execution_count": 22,
   "id": "46ebba8e",
   "metadata": {},
   "outputs": [
    {
     "data": {
      "text/plain": [
       "['Hing']"
      ]
     },
     "execution_count": 22,
     "metadata": {},
     "output_type": "execute_result"
    }
   ],
   "source": [
    "string = 'Hing, someone is kind'\n",
    "\n",
    "re.findall('H.*ing',string)"
   ]
  },
  {
   "cell_type": "code",
   "execution_count": 23,
   "id": "48503ea4",
   "metadata": {},
   "outputs": [
    {
     "data": {
      "text/plain": [
       "['Hing', 'Huing']"
      ]
     },
     "execution_count": 23,
     "metadata": {},
     "output_type": "execute_result"
    }
   ],
   "source": [
    "string = 'Hing, Helping someone is kind. I like Huing'\n",
    "\n",
    "re.findall('H.?ing',string)"
   ]
  },
  {
   "cell_type": "code",
   "execution_count": 24,
   "id": "a0170f9c",
   "metadata": {},
   "outputs": [
    {
     "data": {
      "text/plain": [
       "['Where', 'While']"
      ]
     },
     "execution_count": 24,
     "metadata": {},
     "output_type": "execute_result"
    }
   ],
   "source": [
    "string = \"Where are you Whinie While I look around\"\n",
    "\n",
    "re.findall('Wh.{2}e',string)"
   ]
  },
  {
   "cell_type": "code",
   "execution_count": 25,
   "id": "7e27cef7",
   "metadata": {},
   "outputs": [
    {
     "data": {
      "text/plain": [
       "['Where', 'While']"
      ]
     },
     "execution_count": 25,
     "metadata": {},
     "output_type": "execute_result"
    }
   ],
   "source": [
    "re.findall('Wh..e',string)"
   ]
  },
  {
   "cell_type": "code",
   "execution_count": 26,
   "id": "8e8414f5",
   "metadata": {},
   "outputs": [
    {
     "data": {
      "text/plain": [
       "['beautiful', 'beautiful', 'lovely']"
      ]
     },
     "execution_count": 26,
     "metadata": {},
     "output_type": "execute_result"
    }
   ],
   "source": [
    "string = \"It's a beautiful day in the city with all the beautiful lights. It's lovely.\"\n",
    "\n",
    "re.findall('beautiful|lovely',string)"
   ]
  },
  {
   "cell_type": "code",
   "execution_count": null,
   "id": "9f357e3d",
   "metadata": {},
   "outputs": [],
   "source": [
    "# ()"
   ]
  },
  {
   "cell_type": "code",
   "execution_count": null,
   "id": "2e90dd64",
   "metadata": {},
   "outputs": [],
   "source": []
  },
  {
   "cell_type": "code",
   "execution_count": null,
   "id": "d00ac21d",
   "metadata": {},
   "outputs": [],
   "source": []
  },
  {
   "cell_type": "code",
   "execution_count": null,
   "id": "b60a7a2d",
   "metadata": {},
   "outputs": [],
   "source": []
  },
  {
   "cell_type": "code",
   "execution_count": null,
   "id": "317c49af",
   "metadata": {},
   "outputs": [],
   "source": []
  },
  {
   "cell_type": "code",
   "execution_count": null,
   "id": "4a5ecdce",
   "metadata": {},
   "outputs": [],
   "source": []
  },
  {
   "cell_type": "code",
   "execution_count": null,
   "id": "e1c4f765",
   "metadata": {},
   "outputs": [],
   "source": []
  },
  {
   "cell_type": "code",
   "execution_count": null,
   "id": "8381b9a7",
   "metadata": {},
   "outputs": [],
   "source": []
  },
  {
   "cell_type": "code",
   "execution_count": null,
   "id": "a8c94d49",
   "metadata": {},
   "outputs": [],
   "source": []
  },
  {
   "cell_type": "code",
   "execution_count": null,
   "id": "d5f57430",
   "metadata": {},
   "outputs": [],
   "source": []
  },
  {
   "cell_type": "code",
   "execution_count": null,
   "id": "dcb868ef",
   "metadata": {},
   "outputs": [],
   "source": []
  },
  {
   "cell_type": "code",
   "execution_count": null,
   "id": "e4d868ab",
   "metadata": {},
   "outputs": [],
   "source": []
  },
  {
   "cell_type": "code",
   "execution_count": null,
   "id": "ed8eb40c",
   "metadata": {},
   "outputs": [],
   "source": []
  },
  {
   "cell_type": "code",
   "execution_count": null,
   "id": "b2839360",
   "metadata": {},
   "outputs": [],
   "source": []
  },
  {
   "cell_type": "code",
   "execution_count": null,
   "id": "75960ab7",
   "metadata": {},
   "outputs": [],
   "source": []
  },
  {
   "cell_type": "code",
   "execution_count": null,
   "id": "3478a2b3",
   "metadata": {},
   "outputs": [],
   "source": []
  },
  {
   "cell_type": "code",
   "execution_count": null,
   "id": "d9f85eba",
   "metadata": {},
   "outputs": [],
   "source": []
  },
  {
   "cell_type": "code",
   "execution_count": null,
   "id": "696813f4",
   "metadata": {},
   "outputs": [],
   "source": []
  },
  {
   "cell_type": "code",
   "execution_count": null,
   "id": "5b112666",
   "metadata": {},
   "outputs": [],
   "source": []
  },
  {
   "cell_type": "code",
   "execution_count": null,
   "id": "612991ed",
   "metadata": {},
   "outputs": [],
   "source": []
  },
  {
   "cell_type": "code",
   "execution_count": null,
   "id": "ba6fca6e",
   "metadata": {},
   "outputs": [],
   "source": []
  }
 ],
 "metadata": {
  "kernelspec": {
   "display_name": "Python 3 (ipykernel)",
   "language": "python",
   "name": "python3"
  },
  "language_info": {
   "codemirror_mode": {
    "name": "ipython",
    "version": 3
   },
   "file_extension": ".py",
   "mimetype": "text/x-python",
   "name": "python",
   "nbconvert_exporter": "python",
   "pygments_lexer": "ipython3",
   "version": "3.9.13"
  }
 },
 "nbformat": 4,
 "nbformat_minor": 5
}
