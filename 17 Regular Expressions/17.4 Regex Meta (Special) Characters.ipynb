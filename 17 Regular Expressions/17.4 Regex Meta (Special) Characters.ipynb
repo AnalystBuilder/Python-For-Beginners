{
 "cells": [
  {
   "cell_type": "markdown",
   "id": "a9158235",
   "metadata": {},
   "source": [
    "# Regex Meta (Special) Characters"
   ]
  },
  {
   "cell_type": "code",
   "execution_count": 1,
   "id": "fd0def49",
   "metadata": {},
   "outputs": [],
   "source": [
    "import re"
   ]
  },
  {
   "cell_type": "code",
   "execution_count": 2,
   "id": "cb491f06",
   "metadata": {},
   "outputs": [],
   "source": [
    "quote = 'My name is Mr. Freberg. My phone number is 349-347-1938. My email is Python4Funz@gmail.com'"
   ]
  },
  {
   "cell_type": "code",
   "execution_count": 3,
   "id": "c50ed6e2",
   "metadata": {},
   "outputs": [
    {
     "data": {
      "text/plain": [
       "['3', '4', '9', '3', '4', '7', '1', '9', '3', '8', '4']"
      ]
     },
     "execution_count": 3,
     "metadata": {},
     "output_type": "execute_result"
    }
   ],
   "source": [
    "# \\d\n",
    "\n",
    "re.findall('\\d', quote)"
   ]
  },
  {
   "cell_type": "code",
   "execution_count": 4,
   "id": "7f93b036",
   "metadata": {},
   "outputs": [
    {
     "data": {
      "text/plain": [
       "['3', '4', '9', '3', '4', '7', '1', '9', '3', '8', '4']"
      ]
     },
     "execution_count": 4,
     "metadata": {},
     "output_type": "execute_result"
    }
   ],
   "source": [
    "re.findall('[0-9]', quote)"
   ]
  },
  {
   "cell_type": "code",
   "execution_count": 6,
   "id": "a1f709e4",
   "metadata": {},
   "outputs": [
    {
     "name": "stdout",
     "output_type": "stream",
     "text": [
      "['M', 'y', 'n', 'a', 'm', 'e', 'i', 's', 'M', 'r', 'F', 'r', 'e', 'b', 'e', 'r', 'g', 'M', 'y', 'p', 'h', 'o', 'n', 'e', 'n', 'u', 'm', 'b', 'e', 'r', 'i', 's', '3', '4', '9', '3', '4', '7', '1', '9', '3', '8', 'M', 'y', 'e', 'm', 'a', 'i', 'l', 'i', 's', 'P', 'y', 't', 'h', 'o', 'n', '4', 'F', 'u', 'n', 'z', 'g', 'm', 'a', 'i', 'l', 'c', 'o', 'm']\n"
     ]
    }
   ],
   "source": [
    "# \\w\n",
    "\n",
    "print(re.findall('\\w', quote))"
   ]
  },
  {
   "cell_type": "code",
   "execution_count": 7,
   "id": "58285d5a",
   "metadata": {},
   "outputs": [
    {
     "name": "stdout",
     "output_type": "stream",
     "text": [
      "[' ', ' ', ' ', '.', ' ', '.', ' ', ' ', ' ', ' ', ' ', '-', '-', '.', ' ', ' ', ' ', ' ', '@', '.']\n"
     ]
    }
   ],
   "source": [
    "print(re.findall('\\W', quote))"
   ]
  },
  {
   "cell_type": "code",
   "execution_count": 8,
   "id": "ca1d3a91",
   "metadata": {},
   "outputs": [
    {
     "name": "stdout",
     "output_type": "stream",
     "text": [
      "[' ', ' ', ' ', ' ', ' ', ' ', ' ', ' ', ' ', ' ', ' ', ' ', ' ']\n"
     ]
    }
   ],
   "source": [
    "# \\s\n",
    "\n",
    "print(re.findall('\\s', quote))"
   ]
  },
  {
   "cell_type": "code",
   "execution_count": null,
   "id": "188a07eb",
   "metadata": {},
   "outputs": [],
   "source": [
    "quote = 'My name is Mr. Freberg. My phone number is 349-347-1938. My email is Python4Funz@gmail.com'"
   ]
  },
  {
   "cell_type": "code",
   "execution_count": 11,
   "id": "35d8c379",
   "metadata": {},
   "outputs": [
    {
     "name": "stdout",
     "output_type": "stream",
     "text": [
      "[]\n"
     ]
    }
   ],
   "source": [
    "# \\A\n",
    "\n",
    "print(re.findall('\\A[a-z]', quote))"
   ]
  },
  {
   "cell_type": "code",
   "execution_count": 13,
   "id": "2df1d3af",
   "metadata": {},
   "outputs": [
    {
     "name": "stdout",
     "output_type": "stream",
     "text": [
      "['m']\n"
     ]
    }
   ],
   "source": [
    "# \\Z\n",
    "\n",
    "print(re.findall('[a-z]\\Z', quote))"
   ]
  },
  {
   "cell_type": "code",
   "execution_count": 20,
   "id": "1899dac0",
   "metadata": {},
   "outputs": [
    {
     "name": "stdout",
     "output_type": "stream",
     "text": [
      "['Python', 'Python']\n"
     ]
    }
   ],
   "source": [
    "# \\b\n",
    "\n",
    "quote = 'I like Python is PythonLove a word?'\n",
    "\n",
    "print(re.findall(r'\\bPython', quote))"
   ]
  },
  {
   "cell_type": "code",
   "execution_count": 21,
   "id": "7f7fd6bb",
   "metadata": {},
   "outputs": [
    {
     "name": "stdout",
     "output_type": "stream",
     "text": [
      "['Python']\n"
     ]
    }
   ],
   "source": [
    "print(re.findall(r'\\bPython\\b', quote))"
   ]
  },
  {
   "cell_type": "code",
   "execution_count": 23,
   "id": "4058ecdc",
   "metadata": {},
   "outputs": [
    {
     "name": "stdout",
     "output_type": "stream",
     "text": [
      "['ython']\n"
     ]
    }
   ],
   "source": [
    "# \\B\n",
    "\n",
    "print(re.findall(r'\\Bython\\B', quote))"
   ]
  },
  {
   "cell_type": "code",
   "execution_count": 28,
   "id": "2029241e",
   "metadata": {},
   "outputs": [
    {
     "name": "stdout",
     "output_type": "stream",
     "text": [
      "['365', '876', '526', '000']\n"
     ]
    }
   ],
   "source": [
    "string = 'There are 365 days in a year. 8760 hours. 526000 minutes. Only 24 days until Christmas. 1 day at a time.'\n",
    "\n",
    "\n",
    "print(re.findall(r'\\d{3}', string))"
   ]
  },
  {
   "cell_type": "code",
   "execution_count": 29,
   "id": "2cba384c",
   "metadata": {},
   "outputs": [
    {
     "name": "stdout",
     "output_type": "stream",
     "text": [
      "['365', '8760', '5260']\n"
     ]
    }
   ],
   "source": [
    "print(re.findall(r'\\d{3,4}', string))"
   ]
  },
  {
   "cell_type": "code",
   "execution_count": 31,
   "id": "78943769",
   "metadata": {},
   "outputs": [
    {
     "name": "stdout",
     "output_type": "stream",
     "text": [
      "5\n"
     ]
    }
   ],
   "source": [
    "print(len(re.findall(r'\\d+', string)))"
   ]
  },
  {
   "cell_type": "code",
   "execution_count": null,
   "id": "66fa16b1",
   "metadata": {},
   "outputs": [],
   "source": []
  },
  {
   "cell_type": "code",
   "execution_count": null,
   "id": "f3a5df7b",
   "metadata": {},
   "outputs": [],
   "source": []
  },
  {
   "cell_type": "code",
   "execution_count": null,
   "id": "21d4da4f",
   "metadata": {},
   "outputs": [],
   "source": []
  },
  {
   "cell_type": "code",
   "execution_count": null,
   "id": "242f37b4",
   "metadata": {},
   "outputs": [],
   "source": []
  },
  {
   "cell_type": "code",
   "execution_count": null,
   "id": "14bceb6a",
   "metadata": {},
   "outputs": [],
   "source": []
  },
  {
   "cell_type": "code",
   "execution_count": null,
   "id": "4584b78c",
   "metadata": {},
   "outputs": [],
   "source": []
  },
  {
   "cell_type": "code",
   "execution_count": null,
   "id": "452c060e",
   "metadata": {},
   "outputs": [],
   "source": []
  },
  {
   "cell_type": "code",
   "execution_count": null,
   "id": "8ea773e7",
   "metadata": {},
   "outputs": [],
   "source": []
  },
  {
   "cell_type": "code",
   "execution_count": null,
   "id": "84fb5325",
   "metadata": {},
   "outputs": [],
   "source": []
  },
  {
   "cell_type": "code",
   "execution_count": null,
   "id": "b22d1641",
   "metadata": {},
   "outputs": [],
   "source": []
  },
  {
   "cell_type": "code",
   "execution_count": null,
   "id": "96af11b6",
   "metadata": {},
   "outputs": [],
   "source": []
  },
  {
   "cell_type": "code",
   "execution_count": null,
   "id": "b1a202b3",
   "metadata": {},
   "outputs": [],
   "source": []
  },
  {
   "cell_type": "code",
   "execution_count": null,
   "id": "1986452f",
   "metadata": {},
   "outputs": [],
   "source": []
  }
 ],
 "metadata": {
  "kernelspec": {
   "display_name": "Python 3 (ipykernel)",
   "language": "python",
   "name": "python3"
  },
  "language_info": {
   "codemirror_mode": {
    "name": "ipython",
    "version": 3
   },
   "file_extension": ".py",
   "mimetype": "text/x-python",
   "name": "python",
   "nbconvert_exporter": "python",
   "pygments_lexer": "ipython3",
   "version": "3.9.13"
  }
 },
 "nbformat": 4,
 "nbformat_minor": 5
}
