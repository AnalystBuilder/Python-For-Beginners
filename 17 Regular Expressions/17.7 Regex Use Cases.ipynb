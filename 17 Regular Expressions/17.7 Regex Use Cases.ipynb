{
 "cells": [
  {
   "cell_type": "markdown",
   "id": "b383356f",
   "metadata": {},
   "source": [
    "# Regex Use Cases"
   ]
  },
  {
   "cell_type": "code",
   "execution_count": 1,
   "id": "af857b00",
   "metadata": {},
   "outputs": [],
   "source": [
    "import re\n",
    "\n",
    "random_text = '''\n",
    "My name is Mr. Freberg. My phone number is 542-234-2819. My email is PythonizFunz@gmail.com\n",
    "My name is Mr. Max. My phone number is 413-234-2568. My emails is RoughRuff@yahoo.com. \n",
    "My name is Mrs. Rosie. My phone number is 285-036-8215. My emails is GoldenGirl@apple.com.\n",
    "'''"
   ]
  },
  {
   "cell_type": "code",
   "execution_count": 2,
   "id": "06783111",
   "metadata": {},
   "outputs": [
    {
     "data": {
      "text/plain": [
       "['gmail', 'yahoo', 'apple']"
      ]
     },
     "execution_count": 2,
     "metadata": {},
     "output_type": "execute_result"
    }
   ],
   "source": [
    "re.findall(r'@([a-zA-z]+)',random_text)"
   ]
  },
  {
   "cell_type": "code",
   "execution_count": 3,
   "id": "7a815d6d",
   "metadata": {},
   "outputs": [
    {
     "data": {
      "text/plain": [
       "['gmail.com', 'yahoo.com.', 'apple.com.']"
      ]
     },
     "execution_count": 3,
     "metadata": {},
     "output_type": "execute_result"
    }
   ],
   "source": [
    "re.findall(r'@([\\w\\.]+)',random_text)"
   ]
  },
  {
   "cell_type": "code",
   "execution_count": 10,
   "id": "0f0c65e3",
   "metadata": {},
   "outputs": [
    {
     "data": {
      "text/plain": [
       "['PythonizFunz@gmail.com', 'RoughRuff@yahoo.com.', 'GoldenGirl@apple.com.']"
      ]
     },
     "execution_count": 10,
     "metadata": {},
     "output_type": "execute_result"
    }
   ],
   "source": [
    "re.findall(r'[\\w+]+@[\\w\\.]+',random_text)"
   ]
  },
  {
   "cell_type": "code",
   "execution_count": 11,
   "id": "f005636a",
   "metadata": {},
   "outputs": [
    {
     "data": {
      "text/plain": [
       "['542', '234', '281', '413', '234', '256', '285', '036', '821']"
      ]
     },
     "execution_count": 11,
     "metadata": {},
     "output_type": "execute_result"
    }
   ],
   "source": [
    "re.findall(r'\\d{3}',random_text)"
   ]
  },
  {
   "cell_type": "code",
   "execution_count": 13,
   "id": "aa26e7c4",
   "metadata": {},
   "outputs": [
    {
     "data": {
      "text/plain": [
       "['542-234-2819', '413-234-2568', '285-036-8215']"
      ]
     },
     "execution_count": 13,
     "metadata": {},
     "output_type": "execute_result"
    }
   ],
   "source": [
    "re.findall(r'\\d{3}-\\d{3}-\\d{4}',random_text)"
   ]
  },
  {
   "cell_type": "code",
   "execution_count": 16,
   "id": "9fc945ee",
   "metadata": {},
   "outputs": [],
   "source": [
    "email_list = ['PythonizFunz@gmail.com','RoughRuff@yahoo.com','GoldenGirl@apple.com']"
   ]
  },
  {
   "cell_type": "code",
   "execution_count": 18,
   "id": "0eec7800",
   "metadata": {},
   "outputs": [
    {
     "name": "stdout",
     "output_type": "stream",
     "text": [
      "['gmail']\n",
      "['yahoo']\n",
      "['apple']\n"
     ]
    }
   ],
   "source": [
    "for email in email_list:\n",
    "    print(re.findall(r'@([a-zA-z]+)',email))"
   ]
  },
  {
   "cell_type": "code",
   "execution_count": 20,
   "id": "7d0f1446",
   "metadata": {},
   "outputs": [
    {
     "name": "stdout",
     "output_type": "stream",
     "text": [
      "['gmail', 'yahoo', 'apple']\n"
     ]
    }
   ],
   "source": [
    "domain_list = [re.findall(r'@([a-zA-z]+)',email)[0] for email in email_list]\n",
    "\n",
    "print(domain_list)\n",
    "                          \n",
    "                          "
   ]
  },
  {
   "cell_type": "code",
   "execution_count": null,
   "id": "adfa8b2c",
   "metadata": {},
   "outputs": [],
   "source": []
  },
  {
   "cell_type": "code",
   "execution_count": null,
   "id": "202d1183",
   "metadata": {},
   "outputs": [],
   "source": []
  },
  {
   "cell_type": "code",
   "execution_count": null,
   "id": "41375adb",
   "metadata": {},
   "outputs": [],
   "source": []
  },
  {
   "cell_type": "code",
   "execution_count": null,
   "id": "56f35608",
   "metadata": {},
   "outputs": [],
   "source": []
  },
  {
   "cell_type": "code",
   "execution_count": null,
   "id": "c8cc1e5e",
   "metadata": {},
   "outputs": [],
   "source": []
  },
  {
   "cell_type": "code",
   "execution_count": null,
   "id": "5d3e2f33",
   "metadata": {},
   "outputs": [],
   "source": []
  },
  {
   "cell_type": "code",
   "execution_count": null,
   "id": "2b3cd5c7",
   "metadata": {},
   "outputs": [],
   "source": []
  },
  {
   "cell_type": "code",
   "execution_count": null,
   "id": "62e9a271",
   "metadata": {},
   "outputs": [],
   "source": []
  },
  {
   "cell_type": "code",
   "execution_count": null,
   "id": "352953cc",
   "metadata": {},
   "outputs": [],
   "source": []
  },
  {
   "cell_type": "code",
   "execution_count": null,
   "id": "40b86e09",
   "metadata": {},
   "outputs": [],
   "source": []
  },
  {
   "cell_type": "code",
   "execution_count": null,
   "id": "8c8477b5",
   "metadata": {},
   "outputs": [],
   "source": []
  },
  {
   "cell_type": "code",
   "execution_count": null,
   "id": "919b7814",
   "metadata": {},
   "outputs": [],
   "source": []
  },
  {
   "cell_type": "code",
   "execution_count": null,
   "id": "d35fe5e8",
   "metadata": {},
   "outputs": [],
   "source": []
  },
  {
   "cell_type": "code",
   "execution_count": null,
   "id": "7147efa6",
   "metadata": {},
   "outputs": [],
   "source": []
  }
 ],
 "metadata": {
  "kernelspec": {
   "display_name": "Python 3 (ipykernel)",
   "language": "python",
   "name": "python3"
  },
  "language_info": {
   "codemirror_mode": {
    "name": "ipython",
    "version": 3
   },
   "file_extension": ".py",
   "mimetype": "text/x-python",
   "name": "python",
   "nbconvert_exporter": "python",
   "pygments_lexer": "ipython3",
   "version": "3.9.13"
  }
 },
 "nbformat": 4,
 "nbformat_minor": 5
}
