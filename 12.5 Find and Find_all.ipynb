{
 "cells": [
  {
   "cell_type": "markdown",
   "id": "48c1656a",
   "metadata": {},
   "source": [
    "# Find and Find_all"
   ]
  },
  {
   "cell_type": "code",
   "execution_count": 1,
   "id": "6d1d4a18",
   "metadata": {},
   "outputs": [],
   "source": [
    "from bs4 import BeautifulSoup\n",
    "import requests"
   ]
  },
  {
   "cell_type": "code",
   "execution_count": 2,
   "id": "10f9c88f",
   "metadata": {},
   "outputs": [],
   "source": [
    "url = 'https://webscraper.io/test-sites/e-commerce/allinone/phones'\n",
    "\n",
    "page = requests.get(url)\n",
    "\n",
    "soup = BeautifulSoup(page.text, 'html')"
   ]
  },
  {
   "cell_type": "code",
   "execution_count": 3,
   "id": "017a2d1a",
   "metadata": {},
   "outputs": [
    {
     "name": "stdout",
     "output_type": "stream",
     "text": [
      "<!DOCTYPE html>\n",
      "<html lang=\"en\">\n",
      "<head>\n",
      "<!-- Anti-flicker snippet (recommended)  -->\n",
      "<style>.async-hide {\n",
      "\t\topacity: 0 !important\n",
      "\t} </style>\n",
      "<script>(function (a, s, y, n, c, h, i, d, e) {\n",
      "\t\ts.className += ' ' + y;\n",
      "\t\th.start = 1 * new Date;\n",
      "\t\th.end = i = function () {\n",
      "\t\t\ts.className = s.className.replace(RegExp(' ?' + y), '')\n",
      "\t\t};\n",
      "\t\t(a[n] = a[n] || []).hide = h;\n",
      "\t\tsetTimeout(function () {\n",
      "\t\t\ti();\n",
      "\t\t\th.end = null\n",
      "\t\t}, c);\n",
      "\t\th.timeout = c;\n",
      "\t})(window, document.documentElement, 'async-hide', 'dataLayer', 4000,\n",
      "\t\t{'GTM-NVFPDWB': true});</script>\n",
      "<!-- Google Tag Manager -->\n",
      "<script>(function (w, d, s, l, i) {\n",
      "\t\tw[l] = w[l] || [];\n",
      "\t\tw[l].push({\n",
      "\t\t\t'gtm.start':\n",
      "\t\t\t\tnew Date().getTime(), event: 'gtm.js'\n",
      "\t\t});\n",
      "\t\tvar f = d.getElementsByTagName(s)[0],\n",
      "\t\t\tj = d.createElement(s), dl = l != 'dataLayer' ? '&l=' + l : '';\n",
      "\t\tj.async = true;\n",
      "\t\tj.src =\n",
      "\t\t\t'https://www.googletagmanager.com/gtm.js?id=' + i + dl;\n",
      "\t\tf.parentNode.insertBefore(j, f);\n",
      "\t})(window, document, 'script', 'dataLayer', 'GTM-NVFPDWB');</script>\n",
      "<!-- End Google Tag Manager -->\n",
      "<title>Web Scraper Test Sites</title>\n",
      "<meta charset=\"utf-8\"/>\n",
      "<meta content=\"IE=edge,chrome=1\" http-equiv=\"X-UA-Compatible\"/>\n",
      "<meta content=\"web scraping,Web Scraper,Chrome extension,Crawling,Cross platform scraper\" name=\"keywords\"/>\n",
      "<meta content=\"The most popular web scraping extension. Start scraping in minutes. Automate your tasks with our Cloud Scraper. No software to download, no coding needed.\" name=\"description\"/>\n",
      "<link href=\"/favicon.png\" rel=\"icon\" sizes=\"128x128\"/>\n",
      "<meta content=\"width=device-width, initial-scale=1.0\" name=\"viewport\"/>\n",
      "<link href=\"/css/app.css?id=e30a09b05325a08d79dd\" rel=\"stylesheet\"/>\n",
      "<link href=\"https://webscraper.io/test-sites/e-commerce/allinone/phones\" rel=\"canonical\"/>\n",
      "<link href=\"/img/logo-icon.png\" rel=\"apple-touch-icon\"/>\n",
      "<script defer=\"\" src=\"/js/app.js?id=1c1cafc4a642f71eb469\"></script>\n",
      "</head>\n",
      "<body>\n",
      "<!-- Google Tag Manager (noscript) -->\n",
      "<noscript>\n",
      "<iframe height=\"0\" src=\"https://www.googletagmanager.com/ns.html?id=GTM-NVFPDWB\" style=\"display:none;visibility:hidden\" width=\"0\"></iframe>\n",
      "</noscript>\n",
      "<!-- End Google Tag Manager (noscript) -->\n",
      "<header class=\"navbar navbar-fixed-top navbar-static\" role=\"banner\">\n",
      "<div class=\"container\">\n",
      "<div class=\"navbar-header\">\n",
      "<a data-target=\".side-collapse\" data-target-2=\".side-collapse-container\" data-toggle=\"collapse-side\">\n",
      "<button aria-controls=\"navbar\" aria-expanded=\"false\" class=\"navbar-toggle pull-right collapsed\" data-target=\"#navbar\" data-target-2=\".side-collapse-container\" data-target-3=\".side-collapse\" data-toggle=\"collapse\" type=\"button\">\n",
      "<span class=\"sr-only\">Toggle navigation</span>\n",
      "<span class=\"icon-bar top-bar\"></span>\n",
      "<span class=\"icon-bar middle-bar\"></span>\n",
      "<span class=\"icon-bar bottom-bar\"></span>\n",
      "</button>\n",
      "</a>\n",
      "<div class=\"navbar-brand\">\n",
      "<a href=\"/\"><img alt=\"Web Scraper\" src=\"/img/logo_white.svg\"/></a>\n",
      "</div>\n",
      "</div>\n",
      "<div class=\"side-collapse in\">\n",
      "<nav class=\"navbar-collapse collapse\" id=\"navbar\" role=\"navigation\">\n",
      "<ul class=\"nav navbar-nav navbar-right\">\n",
      "<li class=\"hidden\">\n",
      "<a href=\"#page-top\"></a>\n",
      "</li>\n",
      "<li>\n",
      "<a class=\"menuitm\" href=\"/\">\n",
      "<p>Web Scraper</p>\n",
      "<div class=\"crta\"></div>\n",
      "</a>\n",
      "</li>\n",
      "<li>\n",
      "<a class=\"menuitm\" href=\"/cloud-scraper\">\n",
      "<p>Cloud Scraper</p>\n",
      "<div class=\"crta\"></div>\n",
      "</a>\n",
      "</li>\n",
      "<li>\n",
      "<a class=\"menuitm\" href=\"/pricing\">\n",
      "<p>Pricing</p>\n",
      "<div class=\"crta\"></div>\n",
      "</a>\n",
      "</li>\n",
      "<li class=\"dropdown\">\n",
      "<a class=\"menuitm dropdown-toggle\" data-toggle=\"dropdown\" href=\"#section3\">\n",
      "<p>Learn</p>\n",
      "<div class=\"crta\"></div>\n",
      "</a>\n",
      "<ul class=\"dropdown-menu\">\n",
      "<li>\n",
      "<a href=\"/documentation\">Documentation</a>\n",
      "</li>\n",
      "<li>\n",
      "<a href=\"/tutorials\">Video Tutorials</a>\n",
      "</li>\n",
      "<li>\n",
      "<a href=\"/how-to-videos\">How to</a>\n",
      "</li>\n",
      "<li>\n",
      "<a href=\"/test-sites\">Test Sites</a>\n",
      "</li>\n",
      "<li>\n",
      "<a href=\"https://forum.webscraper.io/\" rel=\"noopener\" target=\"_blank\">Forum</a>\n",
      "</li>\n",
      "</ul>\n",
      "</li>\n",
      "<li>\n",
      "<a class=\"btn-menu1 install-extension\" href=\"https://chrome.google.com/webstore/detail/web-scraper/jnhgnonknehpejjnehehllkliplmbmhn?hl=en\" rel=\"noopener\" target=\"_blank\">Install</a>\n",
      "</li>\n",
      "<li>\n",
      "<a class=\"btn-menu2\" href=\"https://cloud.webscraper.io/\">Login</a>\n",
      "</li>\n",
      "</ul>\n",
      "</nav>\n",
      "</div>\n",
      "</div>\n",
      "</header>\n",
      "<div class=\"wrapper\">\n",
      "<div class=\"formenu-here container-fluid\">\n",
      "</div>\n",
      "<div class=\"container-fluid blog-hero\">\n",
      "<div class=\"container\">\n",
      "<div class=\"row\">\n",
      "<div class=\"col-md-12\">\n",
      "<h1>Test Sites</h1>\n",
      "</div>\n",
      "</div>\n",
      "</div>\n",
      "</div>\n",
      "<div class=\"container test-site\">\n",
      "<div class=\"row\">\n",
      "<div class=\"col-md-3 sidebar\">\n",
      "<div class=\"navbar-default sidebar\" role=\"navigation\">\n",
      "<div class=\"sidebar-nav navbar-collapse\">\n",
      "<ul class=\"nav\" id=\"side-menu\">\n",
      "<li>\n",
      "<a href=\"/test-sites/e-commerce/allinone\">Home</a>\n",
      "</li>\n",
      "<li>\n",
      "<a class=\"category-link\" href=\"/test-sites/e-commerce/allinone/computers\">\n",
      "\t\t\t\t\tComputers\n",
      "\t\t\t\t\t<span class=\"fa arrow\"></span>\n",
      "</a>\n",
      "</li>\n",
      "<li class=\"active\">\n",
      "<a class=\"category-link active\" href=\"/test-sites/e-commerce/allinone/phones\">\n",
      "\t\t\t\t\tPhones\n",
      "\t\t\t\t\t<span class=\"fa arrow\"></span>\n",
      "</a>\n",
      "<ul class=\"nav nav-second-level collapse in\">\n",
      "<li>\n",
      "<a class=\"subcategory-link\" href=\"/test-sites/e-commerce/allinone/phones/touch\">\n",
      "\t\t\t\t\t\t\tTouch\n",
      "\t\t\t\t\t\t</a>\n",
      "</li>\n",
      "</ul>\n",
      "</li>\n",
      "</ul>\n",
      "</div>\n",
      "</div>\n",
      "</div>\n",
      "<div class=\"col-md-9\">\n",
      "<h1 class=\"page-header\">Phones category</h1>\n",
      "<h2>Top items being scraped right now</h2>\n",
      "<div class=\"row\">\n",
      "<div class=\"col-sm-4 col-lg-4 col-md-4\">\n",
      "<div class=\"thumbnail\">\n",
      "<img alt=\"item\" class=\"img-responsive\" src=\"/images/test-sites/e-commerce/items/cart2.png\"/>\n",
      "<div class=\"caption\">\n",
      "<h4 class=\"pull-right price\">$899.99</h4>\n",
      "<h4>\n",
      "<a class=\"title\" href=\"/test-sites/e-commerce/allinone/product/494\" title=\"Iphone\">Iphone</a>\n",
      "</h4>\n",
      "<p class=\"description\">Black</p>\n",
      "</div>\n",
      "<div class=\"ratings\">\n",
      "<p class=\"pull-right\">1 reviews</p>\n",
      "<p data-rating=\"1\">\n",
      "<span class=\"glyphicon glyphicon-star\"></span>\n",
      "</p>\n",
      "</div>\n",
      "</div>\n",
      "</div>\n",
      "<div class=\"col-sm-4 col-lg-4 col-md-4\">\n",
      "<div class=\"thumbnail\">\n",
      "<img alt=\"item\" class=\"img-responsive\" src=\"/images/test-sites/e-commerce/items/cart2.png\"/>\n",
      "<div class=\"caption\">\n",
      "<h4 class=\"pull-right price\">$899.99</h4>\n",
      "<h4>\n",
      "<a class=\"title\" href=\"/test-sites/e-commerce/allinone/product/493\" title=\"Iphone\">Iphone</a>\n",
      "</h4>\n",
      "<p class=\"description\">Silver</p>\n",
      "</div>\n",
      "<div class=\"ratings\">\n",
      "<p class=\"pull-right\">8 reviews</p>\n",
      "<p data-rating=\"2\">\n",
      "<span class=\"glyphicon glyphicon-star\"></span>\n",
      "<span class=\"glyphicon glyphicon-star\"></span>\n",
      "</p>\n",
      "</div>\n",
      "</div>\n",
      "</div>\n",
      "<div class=\"col-sm-4 col-lg-4 col-md-4\">\n",
      "<div class=\"thumbnail\">\n",
      "<img alt=\"item\" class=\"img-responsive\" src=\"/images/test-sites/e-commerce/items/cart2.png\"/>\n",
      "<div class=\"caption\">\n",
      "<h4 class=\"pull-right price\">$109.99</h4>\n",
      "<h4>\n",
      "<a class=\"title\" href=\"/test-sites/e-commerce/allinone/product/489\" title=\"Nokia X\">Nokia X</a>\n",
      "</h4>\n",
      "<p class=\"description\">Andoid, Jolla dualboot</p>\n",
      "</div>\n",
      "<div class=\"ratings\">\n",
      "<p class=\"pull-right\">4 reviews</p>\n",
      "<p data-rating=\"4\">\n",
      "<span class=\"glyphicon glyphicon-star\"></span>\n",
      "<span class=\"glyphicon glyphicon-star\"></span>\n",
      "<span class=\"glyphicon glyphicon-star\"></span>\n",
      "<span class=\"glyphicon glyphicon-star\"></span>\n",
      "</p>\n",
      "</div>\n",
      "</div>\n",
      "</div>\n",
      "</div>\n",
      "</div>\n",
      "</div>\n",
      "</div>\n",
      "<div class=\"clearfix\"></div>\n",
      "<div class=\"push\"></div>\n",
      "</div>\n",
      "<div class=\"container-fluid footer\" id=\"layout-footer\">\n",
      "<div class=\"container\">\n",
      "<div class=\"row\">\n",
      "<div class=\"col-md-3\">\n",
      "<ul>\n",
      "<li><p>Products</p></li>\n",
      "<li>\n",
      "<a href=\"/\">Web Scraper browser extension</a>\n",
      "</li>\n",
      "<li>\n",
      "<a href=\"/pricing\">Web Scraper Cloud</a>\n",
      "</li>\n",
      "</ul>\n",
      "</div>\n",
      "<div class=\"col-md-3\">\n",
      "<ul>\n",
      "<li><p>Company</p></li>\n",
      "<li><a href=\"/contact\">Contact</a>\n",
      "</li>\n",
      "<li>\n",
      "<a href=\"/privacy-policy\">Website Privacy Policy</a>\n",
      "</li>\n",
      "<li>\n",
      "<a href=\"/extension-privacy-policy\">Browser Extension Privacy Policy</a>\n",
      "</li>\n",
      "<li>\n",
      "<a href=\"http://webscraperio.us-east-1.elasticbeanstalk.com/downloads/Web_Scraper_Media_Kit.zip\">Media kit</a>\n",
      "</li>\n",
      "<li><a href=\"/jobs\">Jobs</a></li>\n",
      "</ul>\n",
      "</div>\n",
      "<div class=\"col-md-3\">\n",
      "<ul>\n",
      "<li><p>Resources</p></li>\n",
      "<li><a href=\"/blog\">Blog</a></li>\n",
      "<li>\n",
      "<a href=\"/documentation\">Documentation</a>\n",
      "</li>\n",
      "<li>\n",
      "<a href=\"/tutorials\">Video Tutorials</a>\n",
      "</li>\n",
      "<li>\n",
      "<a href=\"/screenshots\">Screenshots</a>\n",
      "</li>\n",
      "<li>\n",
      "<a href=\"/test-sites\">Test Sites</a>\n",
      "</li>\n",
      "<li>\n",
      "<a href=\"https://forum.webscraper.io/\" rel=\"noopener\" target=\"_blank\">Forum</a>\n",
      "</li>\n",
      "</ul>\n",
      "</div>\n",
      "<div class=\"col-md-3\">\n",
      "<ul>\n",
      "<li><p>CONTACT US</p></li>\n",
      "<li>\n",
      "<a href=\"mailto:info@webscraper.io\">info@webscraper.io</a>\n",
      "</li>\n",
      "<li>Rupniecibas iela 30,<br/> Riga, Latvia, LV-1045</li>\n",
      "</ul>\n",
      "<ul class=\"smedia\">\n",
      "<li>\n",
      "<a href=\"https://www.facebook.com/webscraperio/\" rel=\"noopener\" target=\"_blank\"><img alt=\"Web Scraper on Facebook\" src=\"/img/fbicon.png\"/></a>\n",
      "</li>\n",
      "<li>\n",
      "<a href=\"https://twitter.com/webscraperio\" rel=\"noopener\" target=\"_blank\"><img alt=\"Web Scraper on Twitter\" src=\"/img/twicon.png\"/></a>\n",
      "</li>\n",
      "</ul>\n",
      "</div>\n",
      "</div>\n",
      "<div class=\"row\">\n",
      "<div class=\"col-md-12\">\n",
      "<p class=\"copyright\">Copyright &amp;copy 2022\n",
      "\t\t\t\t\t<a href=\"#\">Web Scraper</a> | All rights\n",
      "\t\t\t\t\treserved | Made by zoom59</p>\n",
      "</div>\n",
      "</div>\n",
      "</div>\n",
      "</div>\n",
      "</body>\n",
      "</html>\n",
      "\n"
     ]
    }
   ],
   "source": [
    "print(soup)"
   ]
  },
  {
   "cell_type": "code",
   "execution_count": 4,
   "id": "601a10a3",
   "metadata": {},
   "outputs": [
    {
     "data": {
      "text/plain": [
       "<h4 class=\"pull-right price\">$899.99</h4>"
      ]
     },
     "execution_count": 4,
     "metadata": {},
     "output_type": "execute_result"
    }
   ],
   "source": [
    "soup.find('h4')"
   ]
  },
  {
   "cell_type": "code",
   "execution_count": 5,
   "id": "a768e8ab",
   "metadata": {},
   "outputs": [
    {
     "data": {
      "text/plain": [
       "<h4 class=\"pull-right price\">$899.99</h4>"
      ]
     },
     "execution_count": 5,
     "metadata": {},
     "output_type": "execute_result"
    }
   ],
   "source": [
    "soup.find('h4', {'class':'pull-right price'})"
   ]
  },
  {
   "cell_type": "code",
   "execution_count": 6,
   "id": "a3ca703e",
   "metadata": {},
   "outputs": [
    {
     "data": {
      "text/plain": [
       "<a data-target=\".side-collapse\" data-target-2=\".side-collapse-container\" data-toggle=\"collapse-side\">\n",
       "<button aria-controls=\"navbar\" aria-expanded=\"false\" class=\"navbar-toggle pull-right collapsed\" data-target=\"#navbar\" data-target-2=\".side-collapse-container\" data-target-3=\".side-collapse\" data-toggle=\"collapse\" type=\"button\">\n",
       "<span class=\"sr-only\">Toggle navigation</span>\n",
       "<span class=\"icon-bar top-bar\"></span>\n",
       "<span class=\"icon-bar middle-bar\"></span>\n",
       "<span class=\"icon-bar bottom-bar\"></span>\n",
       "</button>\n",
       "</a>"
      ]
     },
     "execution_count": 6,
     "metadata": {},
     "output_type": "execute_result"
    }
   ],
   "source": [
    "soup.find('a')"
   ]
  },
  {
   "cell_type": "code",
   "execution_count": 9,
   "id": "34eb13f1",
   "metadata": {},
   "outputs": [
    {
     "data": {
      "text/plain": [
       "<a class=\"title\" href=\"/test-sites/e-commerce/allinone/product/489\" title=\"Nokia X\">Nokia X</a>"
      ]
     },
     "execution_count": 9,
     "metadata": {},
     "output_type": "execute_result"
    }
   ],
   "source": [
    "soup.find('a', {'title':'Nokia X'})"
   ]
  },
  {
   "cell_type": "code",
   "execution_count": 8,
   "id": "60ed880b",
   "metadata": {},
   "outputs": [
    {
     "data": {
      "text/plain": [
       "[<a data-target=\".side-collapse\" data-target-2=\".side-collapse-container\" data-toggle=\"collapse-side\">\n",
       " <button aria-controls=\"navbar\" aria-expanded=\"false\" class=\"navbar-toggle pull-right collapsed\" data-target=\"#navbar\" data-target-2=\".side-collapse-container\" data-target-3=\".side-collapse\" data-toggle=\"collapse\" type=\"button\">\n",
       " <span class=\"sr-only\">Toggle navigation</span>\n",
       " <span class=\"icon-bar top-bar\"></span>\n",
       " <span class=\"icon-bar middle-bar\"></span>\n",
       " <span class=\"icon-bar bottom-bar\"></span>\n",
       " </button>\n",
       " </a>,\n",
       " <a href=\"/\"><img alt=\"Web Scraper\" src=\"/img/logo_white.svg\"/></a>,\n",
       " <a href=\"#page-top\"></a>,\n",
       " <a class=\"menuitm\" href=\"/\">\n",
       " <p>Web Scraper</p>\n",
       " <div class=\"crta\"></div>\n",
       " </a>,\n",
       " <a class=\"menuitm\" href=\"/cloud-scraper\">\n",
       " <p>Cloud Scraper</p>\n",
       " <div class=\"crta\"></div>\n",
       " </a>,\n",
       " <a class=\"menuitm\" href=\"/pricing\">\n",
       " <p>Pricing</p>\n",
       " <div class=\"crta\"></div>\n",
       " </a>,\n",
       " <a class=\"menuitm dropdown-toggle\" data-toggle=\"dropdown\" href=\"#section3\">\n",
       " <p>Learn</p>\n",
       " <div class=\"crta\"></div>\n",
       " </a>,\n",
       " <a href=\"/documentation\">Documentation</a>,\n",
       " <a href=\"/tutorials\">Video Tutorials</a>,\n",
       " <a href=\"/how-to-videos\">How to</a>,\n",
       " <a href=\"/test-sites\">Test Sites</a>,\n",
       " <a href=\"https://forum.webscraper.io/\" rel=\"noopener\" target=\"_blank\">Forum</a>,\n",
       " <a class=\"btn-menu1 install-extension\" href=\"https://chrome.google.com/webstore/detail/web-scraper/jnhgnonknehpejjnehehllkliplmbmhn?hl=en\" rel=\"noopener\" target=\"_blank\">Install</a>,\n",
       " <a class=\"btn-menu2\" href=\"https://cloud.webscraper.io/\">Login</a>,\n",
       " <a href=\"/test-sites/e-commerce/allinone\">Home</a>,\n",
       " <a class=\"category-link\" href=\"/test-sites/e-commerce/allinone/computers\">\n",
       " \t\t\t\t\tComputers\n",
       " \t\t\t\t\t<span class=\"fa arrow\"></span>\n",
       " </a>,\n",
       " <a class=\"category-link active\" href=\"/test-sites/e-commerce/allinone/phones\">\n",
       " \t\t\t\t\tPhones\n",
       " \t\t\t\t\t<span class=\"fa arrow\"></span>\n",
       " </a>,\n",
       " <a class=\"subcategory-link\" href=\"/test-sites/e-commerce/allinone/phones/touch\">\n",
       " \t\t\t\t\t\t\tTouch\n",
       " \t\t\t\t\t\t</a>,\n",
       " <a class=\"title\" href=\"/test-sites/e-commerce/allinone/product/494\" title=\"Iphone\">Iphone</a>,\n",
       " <a class=\"title\" href=\"/test-sites/e-commerce/allinone/product/493\" title=\"Iphone\">Iphone</a>,\n",
       " <a class=\"title\" href=\"/test-sites/e-commerce/allinone/product/489\" title=\"Nokia X\">Nokia X</a>,\n",
       " <a href=\"/\">Web Scraper browser extension</a>,\n",
       " <a href=\"/pricing\">Web Scraper Cloud</a>,\n",
       " <a href=\"/contact\">Contact</a>,\n",
       " <a href=\"/privacy-policy\">Website Privacy Policy</a>,\n",
       " <a href=\"/extension-privacy-policy\">Browser Extension Privacy Policy</a>,\n",
       " <a href=\"http://webscraperio.us-east-1.elasticbeanstalk.com/downloads/Web_Scraper_Media_Kit.zip\">Media kit</a>,\n",
       " <a href=\"/jobs\">Jobs</a>,\n",
       " <a href=\"/blog\">Blog</a>,\n",
       " <a href=\"/documentation\">Documentation</a>,\n",
       " <a href=\"/tutorials\">Video Tutorials</a>,\n",
       " <a href=\"/screenshots\">Screenshots</a>,\n",
       " <a href=\"/test-sites\">Test Sites</a>,\n",
       " <a href=\"https://forum.webscraper.io/\" rel=\"noopener\" target=\"_blank\">Forum</a>,\n",
       " <a href=\"mailto:info@webscraper.io\">info@webscraper.io</a>,\n",
       " <a href=\"https://www.facebook.com/webscraperio/\" rel=\"noopener\" target=\"_blank\"><img alt=\"Web Scraper on Facebook\" src=\"/img/fbicon.png\"/></a>,\n",
       " <a href=\"https://twitter.com/webscraperio\" rel=\"noopener\" target=\"_blank\"><img alt=\"Web Scraper on Twitter\" src=\"/img/twicon.png\"/></a>,\n",
       " <a href=\"#\">Web Scraper</a>]"
      ]
     },
     "execution_count": 8,
     "metadata": {},
     "output_type": "execute_result"
    }
   ],
   "source": [
    "soup.find_all('a')"
   ]
  },
  {
   "cell_type": "code",
   "execution_count": 10,
   "id": "827bae94",
   "metadata": {},
   "outputs": [
    {
     "data": {
      "text/plain": [
       "[<h4 class=\"pull-right price\">$899.99</h4>,\n",
       " <h4>\n",
       " <a class=\"title\" href=\"/test-sites/e-commerce/allinone/product/494\" title=\"Iphone\">Iphone</a>\n",
       " </h4>,\n",
       " <h4 class=\"pull-right price\">$899.99</h4>,\n",
       " <h4>\n",
       " <a class=\"title\" href=\"/test-sites/e-commerce/allinone/product/493\" title=\"Iphone\">Iphone</a>\n",
       " </h4>,\n",
       " <h4 class=\"pull-right price\">$109.99</h4>,\n",
       " <h4>\n",
       " <a class=\"title\" href=\"/test-sites/e-commerce/allinone/product/489\" title=\"Nokia X\">Nokia X</a>\n",
       " </h4>]"
      ]
     },
     "execution_count": 10,
     "metadata": {},
     "output_type": "execute_result"
    }
   ],
   "source": [
    "soup.find_all('h4')"
   ]
  },
  {
   "cell_type": "code",
   "execution_count": 11,
   "id": "3ed69df2",
   "metadata": {},
   "outputs": [
    {
     "data": {
      "text/plain": [
       "[<h4 class=\"pull-right price\">$899.99</h4>,\n",
       " <h4 class=\"pull-right price\">$899.99</h4>,\n",
       " <h4 class=\"pull-right price\">$109.99</h4>]"
      ]
     },
     "execution_count": 11,
     "metadata": {},
     "output_type": "execute_result"
    }
   ],
   "source": [
    "soup.find_all('h4', class_ = 'pull-right price')"
   ]
  },
  {
   "cell_type": "code",
   "execution_count": 15,
   "id": "ff17b85d",
   "metadata": {},
   "outputs": [
    {
     "data": {
      "text/plain": [
       "[<a class=\"title\" href=\"/test-sites/e-commerce/allinone/product/494\" title=\"Iphone\">Iphone</a>]"
      ]
     },
     "execution_count": 15,
     "metadata": {},
     "output_type": "execute_result"
    }
   ],
   "source": [
    "soup.find_all('a', {'class':'title'})[:1]"
   ]
  },
  {
   "cell_type": "code",
   "execution_count": 19,
   "id": "701da617",
   "metadata": {},
   "outputs": [
    {
     "data": {
      "text/plain": [
       "[<a class=\"title\" href=\"/test-sites/e-commerce/allinone/product/494\" title=\"Iphone\">Iphone</a>,\n",
       " <a class=\"title\" href=\"/test-sites/e-commerce/allinone/product/493\" title=\"Iphone\">Iphone</a>,\n",
       " <a class=\"title\" href=\"/test-sites/e-commerce/allinone/product/489\" title=\"Nokia X\">Nokia X</a>]"
      ]
     },
     "execution_count": 19,
     "metadata": {},
     "output_type": "execute_result"
    }
   ],
   "source": [
    "soup.find_all(title = True)"
   ]
  },
  {
   "cell_type": "code",
   "execution_count": null,
   "id": "0b823541",
   "metadata": {},
   "outputs": [],
   "source": []
  },
  {
   "cell_type": "code",
   "execution_count": null,
   "id": "b879c67e",
   "metadata": {},
   "outputs": [],
   "source": []
  },
  {
   "cell_type": "code",
   "execution_count": null,
   "id": "bff8f24d",
   "metadata": {},
   "outputs": [],
   "source": []
  },
  {
   "cell_type": "code",
   "execution_count": null,
   "id": "a18c24b5",
   "metadata": {},
   "outputs": [],
   "source": []
  },
  {
   "cell_type": "code",
   "execution_count": null,
   "id": "4920a4bf",
   "metadata": {},
   "outputs": [],
   "source": []
  },
  {
   "cell_type": "code",
   "execution_count": null,
   "id": "86e6f4bc",
   "metadata": {},
   "outputs": [],
   "source": []
  },
  {
   "cell_type": "code",
   "execution_count": null,
   "id": "7fddf1f4",
   "metadata": {},
   "outputs": [],
   "source": []
  },
  {
   "cell_type": "code",
   "execution_count": null,
   "id": "9d4f95c5",
   "metadata": {},
   "outputs": [],
   "source": []
  },
  {
   "cell_type": "code",
   "execution_count": null,
   "id": "1a1a711c",
   "metadata": {},
   "outputs": [],
   "source": []
  }
 ],
 "metadata": {
  "kernelspec": {
   "display_name": "Python 3 (ipykernel)",
   "language": "python",
   "name": "python3"
  },
  "language_info": {
   "codemirror_mode": {
    "name": "ipython",
    "version": 3
   },
   "file_extension": ".py",
   "mimetype": "text/x-python",
   "name": "python",
   "nbconvert_exporter": "python",
   "pygments_lexer": "ipython3",
   "version": "3.9.13"
  }
 },
 "nbformat": 4,
 "nbformat_minor": 5
}
