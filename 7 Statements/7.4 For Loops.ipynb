{
 "cells": [
  {
   "attachments": {},
   "cell_type": "markdown",
   "id": "aa892deb",
   "metadata": {},
   "source": [
    "# For Loops"
   ]
  },
  {
   "cell_type": "code",
   "execution_count": null,
   "id": "c2b34b07",
   "metadata": {},
   "outputs": [],
   "source": [
    "for val in sequence(list, str, etc.):\n",
    "    [block of code]"
   ]
  },
  {
   "cell_type": "code",
   "execution_count": 2,
   "id": "181eff78",
   "metadata": {},
   "outputs": [],
   "source": [
    "integers = [1,2,3,4,5]"
   ]
  },
  {
   "cell_type": "code",
   "execution_count": 4,
   "id": "a2cd89bd",
   "metadata": {},
   "outputs": [
    {
     "name": "stdout",
     "output_type": "stream",
     "text": [
      "1\n",
      "2\n",
      "3\n",
      "4\n",
      "5\n"
     ]
    }
   ],
   "source": [
    "for numbers in integers:\n",
    "    print(numbers)"
   ]
  },
  {
   "cell_type": "code",
   "execution_count": 5,
   "id": "f40ef37b",
   "metadata": {},
   "outputs": [
    {
     "name": "stdout",
     "output_type": "stream",
     "text": [
      "Hooray!\n",
      "Hooray!\n",
      "Hooray!\n",
      "Hooray!\n",
      "Hooray!\n"
     ]
    }
   ],
   "source": [
    "for numbers in integers:\n",
    "    print('Hooray!')"
   ]
  },
  {
   "cell_type": "code",
   "execution_count": 6,
   "id": "523bac0e",
   "metadata": {},
   "outputs": [
    {
     "name": "stdout",
     "output_type": "stream",
     "text": [
      "1\n",
      "4\n",
      "27\n",
      "256\n",
      "3125\n"
     ]
    }
   ],
   "source": [
    "integers = [1,2,3,4,5]\n",
    "\n",
    "for numbers in integers:\n",
    "    print(numbers**numbers)"
   ]
  },
  {
   "cell_type": "code",
   "execution_count": 7,
   "id": "5ece96d7",
   "metadata": {},
   "outputs": [],
   "source": [
    "sale_amount = [1, 20, 34.56, 100, 125, 40, 44, 80, 1000, 750]\n",
    "\n",
    "small_sale = []\n",
    "medium_sale = []\n",
    "large_sale = []"
   ]
  },
  {
   "cell_type": "code",
   "execution_count": 8,
   "id": "1f545510",
   "metadata": {},
   "outputs": [
    {
     "name": "stdout",
     "output_type": "stream",
     "text": [
      "Small Sale Numbers: [1, 20, 34.56, 40, 44]\n",
      "Medium Sale Numbers: [100, 125, 80]\n",
      "Large Sale Numbers: [1000, 750]\n"
     ]
    }
   ],
   "source": [
    "\n",
    "for sale in sale_amount:\n",
    "    if sale < 50:\n",
    "        small_sale.append(sale)\n",
    "    elif sale < 150:\n",
    "        medium_sale.append(sale)\n",
    "    else:\n",
    "        large_sale.append(sale)\n",
    "        \n",
    "        \n",
    "print('Small Sale Numbers:', small_sale)\n",
    "print('Medium Sale Numbers:', medium_sale)\n",
    "print('Large Sale Numbers:', large_sale)\n"
   ]
  },
  {
   "cell_type": "code",
   "execution_count": 9,
   "id": "04f7aa3f",
   "metadata": {},
   "outputs": [],
   "source": [
    "flavor_list = ['Mint Chocolate Chip', 'Chocolate', 'Fudge Ripple', 'Cookie Dough']\n",
    "\n",
    "i = 0"
   ]
  },
  {
   "cell_type": "code",
   "execution_count": 10,
   "id": "c2376f29",
   "metadata": {},
   "outputs": [
    {
     "name": "stdout",
     "output_type": "stream",
     "text": [
      "0 Mint Chocolate Chip\n",
      "1 Chocolate\n",
      "2 Fudge Ripple\n",
      "3 Cookie Dough\n"
     ]
    }
   ],
   "source": [
    "for flavor in flavor_list:\n",
    "    print(i,flavor)\n",
    "    i += 1"
   ]
  },
  {
   "cell_type": "code",
   "execution_count": null,
   "id": "d80aecf2",
   "metadata": {},
   "outputs": [],
   "source": [
    "flavor_list = ['Mint Chocolate Chip', 'Chocolate', 'Fudge Ripple', 'Cookie Dough']"
   ]
  },
  {
   "cell_type": "code",
   "execution_count": 11,
   "id": "b522dc73",
   "metadata": {},
   "outputs": [
    {
     "name": "stdout",
     "output_type": "stream",
     "text": [
      "0 Mint Chocolate Chip\n",
      "1 Chocolate\n",
      "2 Fudge Ripple\n",
      "3 Cookie Dough\n"
     ]
    }
   ],
   "source": [
    "for counter, flavor in enumerate(flavor_list):\n",
    "    print(counter, flavor)"
   ]
  },
  {
   "cell_type": "code",
   "execution_count": 12,
   "id": "c2c7de30",
   "metadata": {},
   "outputs": [],
   "source": [
    "customer_dict = {'Name': 'John Smith','Amount Spent': 75,'Items Purchased':['Shovel','Dirt']}"
   ]
  },
  {
   "cell_type": "code",
   "execution_count": 13,
   "id": "fa329589",
   "metadata": {},
   "outputs": [
    {
     "name": "stdout",
     "output_type": "stream",
     "text": [
      "Name\n",
      "Amount Spent\n",
      "Items Purchased\n"
     ]
    }
   ],
   "source": [
    "for values in customer_dict:\n",
    "    print(values)"
   ]
  },
  {
   "cell_type": "code",
   "execution_count": 14,
   "id": "bcd7a395",
   "metadata": {},
   "outputs": [
    {
     "name": "stdout",
     "output_type": "stream",
     "text": [
      "John Smith\n",
      "75\n",
      "['Shovel', 'Dirt']\n"
     ]
    }
   ],
   "source": [
    "for values in customer_dict.values():\n",
    "    print(values)"
   ]
  },
  {
   "cell_type": "code",
   "execution_count": 16,
   "id": "ccac6652",
   "metadata": {},
   "outputs": [
    {
     "name": "stdout",
     "output_type": "stream",
     "text": [
      "Name -> John Smith\n",
      "Amount Spent -> 75\n",
      "Items Purchased -> ['Shovel', 'Dirt']\n"
     ]
    }
   ],
   "source": [
    "for key, values in customer_dict.items():\n",
    "    print(key, '->' ,values)"
   ]
  },
  {
   "cell_type": "code",
   "execution_count": 18,
   "id": "4fbafd1b",
   "metadata": {},
   "outputs": [],
   "source": [
    "divis_by_three = []"
   ]
  },
  {
   "cell_type": "code",
   "execution_count": 19,
   "id": "d4651ec7",
   "metadata": {},
   "outputs": [
    {
     "name": "stdout",
     "output_type": "stream",
     "text": [
      "[0, 3, 6, 9, 12, 15, 18, 21, 24, 27, 30, 33, 36, 39, 42, 45, 48, 51, 54, 57, 60, 63, 66, 69, 72, 75, 78, 81, 84, 87, 90, 93, 96, 99]\n"
     ]
    }
   ],
   "source": [
    "for num in range(100):\n",
    "    if num % 3 == 0:\n",
    "        divis_by_three.append(num)\n",
    "        \n",
    "print(divis_by_three)"
   ]
  },
  {
   "cell_type": "code",
   "execution_count": null,
   "id": "003b3d1c",
   "metadata": {},
   "outputs": [],
   "source": []
  },
  {
   "cell_type": "code",
   "execution_count": null,
   "id": "00db7b30",
   "metadata": {},
   "outputs": [],
   "source": []
  },
  {
   "cell_type": "code",
   "execution_count": null,
   "id": "046dc85f",
   "metadata": {},
   "outputs": [],
   "source": []
  },
  {
   "cell_type": "code",
   "execution_count": null,
   "id": "dea77075",
   "metadata": {},
   "outputs": [],
   "source": []
  },
  {
   "cell_type": "code",
   "execution_count": null,
   "id": "2126d600",
   "metadata": {},
   "outputs": [],
   "source": []
  },
  {
   "cell_type": "code",
   "execution_count": null,
   "id": "0ae6512c",
   "metadata": {},
   "outputs": [],
   "source": []
  },
  {
   "cell_type": "code",
   "execution_count": null,
   "id": "cf08830d",
   "metadata": {},
   "outputs": [],
   "source": []
  },
  {
   "cell_type": "code",
   "execution_count": null,
   "id": "0eb1c450",
   "metadata": {},
   "outputs": [],
   "source": []
  },
  {
   "cell_type": "code",
   "execution_count": null,
   "id": "306a0145",
   "metadata": {},
   "outputs": [],
   "source": []
  },
  {
   "cell_type": "code",
   "execution_count": null,
   "id": "d9ab8d7c",
   "metadata": {},
   "outputs": [],
   "source": []
  },
  {
   "cell_type": "code",
   "execution_count": null,
   "id": "263a97bf",
   "metadata": {},
   "outputs": [],
   "source": []
  },
  {
   "cell_type": "code",
   "execution_count": null,
   "id": "0bc12ecf",
   "metadata": {},
   "outputs": [],
   "source": []
  },
  {
   "cell_type": "code",
   "execution_count": null,
   "id": "e41997dd",
   "metadata": {},
   "outputs": [],
   "source": []
  },
  {
   "cell_type": "code",
   "execution_count": null,
   "id": "52896378",
   "metadata": {},
   "outputs": [],
   "source": []
  },
  {
   "cell_type": "code",
   "execution_count": null,
   "id": "25c443be",
   "metadata": {},
   "outputs": [],
   "source": []
  },
  {
   "cell_type": "code",
   "execution_count": null,
   "id": "f67548d1",
   "metadata": {},
   "outputs": [],
   "source": []
  },
  {
   "cell_type": "code",
   "execution_count": null,
   "id": "4b3cb126",
   "metadata": {},
   "outputs": [],
   "source": []
  },
  {
   "cell_type": "code",
   "execution_count": null,
   "id": "1b0676e4",
   "metadata": {},
   "outputs": [],
   "source": []
  },
  {
   "cell_type": "code",
   "execution_count": null,
   "id": "9585e1f6",
   "metadata": {},
   "outputs": [],
   "source": []
  },
  {
   "cell_type": "code",
   "execution_count": null,
   "id": "e5db2051",
   "metadata": {},
   "outputs": [],
   "source": []
  },
  {
   "cell_type": "code",
   "execution_count": null,
   "id": "b7f471bc",
   "metadata": {},
   "outputs": [],
   "source": []
  },
  {
   "cell_type": "code",
   "execution_count": null,
   "id": "1c75e323",
   "metadata": {},
   "outputs": [],
   "source": []
  }
 ],
 "metadata": {
  "kernelspec": {
   "display_name": "Python 3 (ipykernel)",
   "language": "python",
   "name": "python3"
  },
  "language_info": {
   "codemirror_mode": {
    "name": "ipython",
    "version": 3
   },
   "file_extension": ".py",
   "mimetype": "text/x-python",
   "name": "python",
   "nbconvert_exporter": "python",
   "pygments_lexer": "ipython3",
   "version": "3.9.13"
  }
 },
 "nbformat": 4,
 "nbformat_minor": 5
}
