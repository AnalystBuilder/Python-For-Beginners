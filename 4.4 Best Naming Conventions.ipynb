{
 "cells": [
  {
   "cell_type": "markdown",
   "id": "df1aae23",
   "metadata": {},
   "source": [
    "# Best Naming Conventions for Variables"
   ]
  },
  {
   "cell_type": "code",
   "execution_count": 3,
   "id": "1509d37e",
   "metadata": {},
   "outputs": [],
   "source": [
    "asfljksdnf = 3\n",
    "sdfjlvns = 20\n",
    "\n",
    "sdlfjnsdfli = asfljksdnf * sdfjlvns"
   ]
  },
  {
   "cell_type": "code",
   "execution_count": 4,
   "id": "1493193e",
   "metadata": {},
   "outputs": [
    {
     "name": "stdout",
     "output_type": "stream",
     "text": [
      "60\n"
     ]
    }
   ],
   "source": [
    "print(sdlfjnsdfli)"
   ]
  },
  {
   "cell_type": "code",
   "execution_count": 5,
   "id": "9f3ae684",
   "metadata": {},
   "outputs": [],
   "source": [
    "hours = 3\n",
    "hourly_rate = 20\n",
    "\n",
    "total_compensation = hours * hourly_rate"
   ]
  },
  {
   "cell_type": "code",
   "execution_count": 6,
   "id": "a644e26f",
   "metadata": {},
   "outputs": [
    {
     "name": "stdout",
     "output_type": "stream",
     "text": [
      "60\n"
     ]
    }
   ],
   "source": [
    "print(total_compensation)"
   ]
  },
  {
   "cell_type": "code",
   "execution_count": null,
   "id": "06a3d10c",
   "metadata": {},
   "outputs": [],
   "source": [
    "# Camel Case\n",
    "\n",
    "testVariableCase = 30"
   ]
  },
  {
   "cell_type": "code",
   "execution_count": null,
   "id": "750afe9c",
   "metadata": {},
   "outputs": [],
   "source": [
    "# Pascal Case\n",
    "\n",
    "TestVariableCase = 30"
   ]
  },
  {
   "cell_type": "code",
   "execution_count": null,
   "id": "e5f60542",
   "metadata": {},
   "outputs": [],
   "source": [
    "# Snake Case\n",
    "\n",
    "test_variable_case = 30"
   ]
  },
  {
   "cell_type": "code",
   "execution_count": 13,
   "id": "b16f25b9",
   "metadata": {},
   "outputs": [],
   "source": [
    "# Bad Variable Names\n",
    "\n",
    "#2testvariable = 30\n",
    "#test-variable2 = 30\n",
    "#test variable2 = 30\n",
    "test,variable2 = 30\n"
   ]
  },
  {
   "cell_type": "code",
   "execution_count": null,
   "id": "b0c7b074",
   "metadata": {},
   "outputs": [],
   "source": [
    "# Good Variable Names\n",
    "\n",
    "testvar = 30\n",
    "test_var = 30\n",
    "_test_var = 30\n",
    "testVar = 30\n",
    "TestVar = 30\n",
    "testvar2 = 30\n",
    "\n",
    "testvariable = 40\n",
    "testvariable2 = 50  \n",
    "\n",
    "\n",
    "sdflknsdlfkn = 30"
   ]
  },
  {
   "cell_type": "code",
   "execution_count": null,
   "id": "c9c2e238",
   "metadata": {},
   "outputs": [],
   "source": []
  },
  {
   "cell_type": "code",
   "execution_count": null,
   "id": "22a962ef",
   "metadata": {},
   "outputs": [],
   "source": []
  },
  {
   "cell_type": "code",
   "execution_count": null,
   "id": "c12fcec8",
   "metadata": {},
   "outputs": [],
   "source": []
  },
  {
   "cell_type": "code",
   "execution_count": null,
   "id": "25fde01d",
   "metadata": {},
   "outputs": [],
   "source": []
  },
  {
   "cell_type": "code",
   "execution_count": null,
   "id": "bbf766a8",
   "metadata": {},
   "outputs": [],
   "source": []
  },
  {
   "cell_type": "code",
   "execution_count": null,
   "id": "5dcb7a15",
   "metadata": {},
   "outputs": [],
   "source": []
  },
  {
   "cell_type": "code",
   "execution_count": null,
   "id": "ea459378",
   "metadata": {},
   "outputs": [],
   "source": []
  },
  {
   "cell_type": "code",
   "execution_count": null,
   "id": "b179a4a6",
   "metadata": {},
   "outputs": [],
   "source": []
  },
  {
   "cell_type": "code",
   "execution_count": null,
   "id": "591a453d",
   "metadata": {},
   "outputs": [],
   "source": []
  },
  {
   "cell_type": "code",
   "execution_count": null,
   "id": "3ba1dbee",
   "metadata": {},
   "outputs": [],
   "source": []
  },
  {
   "cell_type": "code",
   "execution_count": null,
   "id": "3e4dd67e",
   "metadata": {},
   "outputs": [],
   "source": []
  },
  {
   "cell_type": "code",
   "execution_count": null,
   "id": "cd0c2f84",
   "metadata": {},
   "outputs": [],
   "source": []
  },
  {
   "cell_type": "code",
   "execution_count": null,
   "id": "f94a54e2",
   "metadata": {},
   "outputs": [],
   "source": []
  },
  {
   "cell_type": "code",
   "execution_count": null,
   "id": "4aac6ca1",
   "metadata": {},
   "outputs": [],
   "source": []
  },
  {
   "cell_type": "code",
   "execution_count": null,
   "id": "7fc97e1a",
   "metadata": {},
   "outputs": [],
   "source": []
  },
  {
   "cell_type": "code",
   "execution_count": null,
   "id": "a7f967b8",
   "metadata": {},
   "outputs": [],
   "source": []
  },
  {
   "cell_type": "code",
   "execution_count": null,
   "id": "780fbbd8",
   "metadata": {},
   "outputs": [],
   "source": []
  },
  {
   "cell_type": "code",
   "execution_count": null,
   "id": "42a891d2",
   "metadata": {},
   "outputs": [],
   "source": []
  },
  {
   "cell_type": "code",
   "execution_count": null,
   "id": "cc138808",
   "metadata": {},
   "outputs": [],
   "source": []
  },
  {
   "cell_type": "code",
   "execution_count": null,
   "id": "35a267a1",
   "metadata": {},
   "outputs": [],
   "source": []
  },
  {
   "cell_type": "code",
   "execution_count": null,
   "id": "c34ba9aa",
   "metadata": {},
   "outputs": [],
   "source": []
  }
 ],
 "metadata": {
  "kernelspec": {
   "display_name": "Python 3 (ipykernel)",
   "language": "python",
   "name": "python3"
  },
  "language_info": {
   "codemirror_mode": {
    "name": "ipython",
    "version": 3
   },
   "file_extension": ".py",
   "mimetype": "text/x-python",
   "name": "python",
   "nbconvert_exporter": "python",
   "pygments_lexer": "ipython3",
   "version": "3.9.13"
  }
 },
 "nbformat": 4,
 "nbformat_minor": 5
}
