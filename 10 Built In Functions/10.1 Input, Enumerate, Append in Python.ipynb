{
 "cells": [
  {
   "cell_type": "markdown",
   "id": "b3656066",
   "metadata": {},
   "source": [
    "# Built-in Functions: Input, Enumerate, Append"
   ]
  },
  {
   "cell_type": "code",
   "execution_count": 1,
   "id": "9fa03154",
   "metadata": {},
   "outputs": [
    {
     "name": "stdout",
     "output_type": "stream",
     "text": [
      "lsdfweorihjsdlf\n"
     ]
    },
    {
     "data": {
      "text/plain": [
       "'lsdfweorihjsdlf'"
      ]
     },
     "execution_count": 1,
     "metadata": {},
     "output_type": "execute_result"
    }
   ],
   "source": [
    "input()"
   ]
  },
  {
   "cell_type": "code",
   "execution_count": 2,
   "id": "a4df01a0",
   "metadata": {},
   "outputs": [
    {
     "name": "stdout",
     "output_type": "stream",
     "text": [
      "Enter Favorite Animal:Donkey\n"
     ]
    },
    {
     "data": {
      "text/plain": [
       "'Donkey'"
      ]
     },
     "execution_count": 2,
     "metadata": {},
     "output_type": "execute_result"
    }
   ],
   "source": [
    "input('Enter Favorite Animal:')"
   ]
  },
  {
   "cell_type": "code",
   "execution_count": 3,
   "id": "f14f7804",
   "metadata": {},
   "outputs": [
    {
     "name": "stdout",
     "output_type": "stream",
     "text": [
      "Enter Favorite Animal:Donkey\n"
     ]
    }
   ],
   "source": [
    "animal = input('Enter Favorite Animal:')"
   ]
  },
  {
   "cell_type": "code",
   "execution_count": 4,
   "id": "ed056ea3",
   "metadata": {},
   "outputs": [
    {
     "name": "stdout",
     "output_type": "stream",
     "text": [
      "Donkey\n"
     ]
    }
   ],
   "source": [
    "print(animal)"
   ]
  },
  {
   "cell_type": "code",
   "execution_count": 7,
   "id": "f89ce07c",
   "metadata": {},
   "outputs": [
    {
     "name": "stdout",
     "output_type": "stream",
     "text": [
      "123\n"
     ]
    },
    {
     "data": {
      "text/plain": [
       "str"
      ]
     },
     "execution_count": 7,
     "metadata": {},
     "output_type": "execute_result"
    }
   ],
   "source": [
    "type(input())"
   ]
  },
  {
   "cell_type": "code",
   "execution_count": 11,
   "id": "dcbc849f",
   "metadata": {},
   "outputs": [
    {
     "name": "stdout",
     "output_type": "stream",
     "text": [
      "123\n"
     ]
    },
    {
     "data": {
      "text/plain": [
       "int"
      ]
     },
     "execution_count": 11,
     "metadata": {},
     "output_type": "execute_result"
    }
   ],
   "source": [
    "type(int(input()))"
   ]
  },
  {
   "cell_type": "code",
   "execution_count": null,
   "id": "65c1f844",
   "metadata": {},
   "outputs": [],
   "source": [
    "enumerate(iterable, start = 0)"
   ]
  },
  {
   "cell_type": "code",
   "execution_count": 12,
   "id": "21228c4b",
   "metadata": {},
   "outputs": [
    {
     "data": {
      "text/plain": [
       "<enumerate at 0x18cc01541c0>"
      ]
     },
     "execution_count": 12,
     "metadata": {},
     "output_type": "execute_result"
    }
   ],
   "source": [
    "my_list = ['Apple','Cherry','Watermelon']\n",
    "\n",
    "\n",
    "enumerate(my_list)\n"
   ]
  },
  {
   "cell_type": "code",
   "execution_count": 13,
   "id": "9b8fd605",
   "metadata": {},
   "outputs": [
    {
     "data": {
      "text/plain": [
       "enumerate"
      ]
     },
     "execution_count": 13,
     "metadata": {},
     "output_type": "execute_result"
    }
   ],
   "source": [
    "type(enumerate(my_list))"
   ]
  },
  {
   "cell_type": "code",
   "execution_count": 14,
   "id": "9e3693b5",
   "metadata": {},
   "outputs": [
    {
     "data": {
      "text/plain": [
       "[(0, 'Apple'), (1, 'Cherry'), (2, 'Watermelon')]"
      ]
     },
     "execution_count": 14,
     "metadata": {},
     "output_type": "execute_result"
    }
   ],
   "source": [
    "list(enumerate(my_list))"
   ]
  },
  {
   "cell_type": "code",
   "execution_count": 15,
   "id": "c73fe4c1",
   "metadata": {},
   "outputs": [],
   "source": [
    "fruit_list = list(enumerate(my_list))"
   ]
  },
  {
   "cell_type": "code",
   "execution_count": 17,
   "id": "de581932",
   "metadata": {},
   "outputs": [
    {
     "data": {
      "text/plain": [
       "tuple"
      ]
     },
     "execution_count": 17,
     "metadata": {},
     "output_type": "execute_result"
    }
   ],
   "source": [
    "type(fruit_list[0])"
   ]
  },
  {
   "cell_type": "code",
   "execution_count": 19,
   "id": "4fc5fd0d",
   "metadata": {},
   "outputs": [
    {
     "data": {
      "text/plain": [
       "[(0, 'H'), (1, 'e'), (2, 'l'), (3, 'l'), (4, 'o'), (5, '!')]"
      ]
     },
     "execution_count": 19,
     "metadata": {},
     "output_type": "execute_result"
    }
   ],
   "source": [
    "list(enumerate('Hello!'))"
   ]
  },
  {
   "cell_type": "code",
   "execution_count": null,
   "id": "074395ba",
   "metadata": {},
   "outputs": [],
   "source": []
  },
  {
   "cell_type": "code",
   "execution_count": 20,
   "id": "d767b054",
   "metadata": {},
   "outputs": [],
   "source": [
    "list_1 = [1,2,3]\n",
    "another_value = 4\n",
    "\n",
    "list_1.append(another_value)"
   ]
  },
  {
   "cell_type": "code",
   "execution_count": 21,
   "id": "5fed0cda",
   "metadata": {},
   "outputs": [
    {
     "name": "stdout",
     "output_type": "stream",
     "text": [
      "[1, 2, 3, 4]\n"
     ]
    }
   ],
   "source": [
    "print(list_1)"
   ]
  },
  {
   "cell_type": "code",
   "execution_count": 25,
   "id": "5a99f385",
   "metadata": {},
   "outputs": [
    {
     "name": "stdout",
     "output_type": "stream",
     "text": [
      "[1, 2, 3, [4, 5, 6, 7, 8, 9, 10]]\n"
     ]
    }
   ],
   "source": [
    "list_1 = [1,2,3]\n",
    "another_list = [4,5,6,7,8,9,10]\n",
    "\n",
    "list_1.append(another_list)\n",
    "\n",
    "print(list_1)"
   ]
  },
  {
   "cell_type": "code",
   "execution_count": 24,
   "id": "cc287faa",
   "metadata": {},
   "outputs": [
    {
     "name": "stdout",
     "output_type": "stream",
     "text": [
      "[1, 2, 3, 4, 5, 6, 7, 8, 9, 10]\n"
     ]
    }
   ],
   "source": [
    "list_1 = [1,2,3]\n",
    "another_list = [4,5,6,7,8,9,10]\n",
    "\n",
    "for value in another_list:\n",
    "    list_1.append(value)\n",
    "\n",
    "\n",
    "print(list_1)"
   ]
  },
  {
   "cell_type": "code",
   "execution_count": null,
   "id": "ef0fdbec",
   "metadata": {},
   "outputs": [],
   "source": []
  },
  {
   "cell_type": "code",
   "execution_count": null,
   "id": "17abe4d2",
   "metadata": {},
   "outputs": [],
   "source": []
  },
  {
   "cell_type": "code",
   "execution_count": null,
   "id": "0c35d520",
   "metadata": {},
   "outputs": [],
   "source": []
  },
  {
   "cell_type": "code",
   "execution_count": null,
   "id": "e65020b8",
   "metadata": {},
   "outputs": [],
   "source": []
  },
  {
   "cell_type": "code",
   "execution_count": null,
   "id": "3a2ddda2",
   "metadata": {},
   "outputs": [],
   "source": []
  },
  {
   "cell_type": "code",
   "execution_count": null,
   "id": "8f6a2518",
   "metadata": {},
   "outputs": [],
   "source": []
  },
  {
   "cell_type": "code",
   "execution_count": null,
   "id": "da76551d",
   "metadata": {},
   "outputs": [],
   "source": []
  },
  {
   "cell_type": "code",
   "execution_count": null,
   "id": "30443145",
   "metadata": {},
   "outputs": [],
   "source": []
  },
  {
   "cell_type": "code",
   "execution_count": null,
   "id": "46abdf44",
   "metadata": {},
   "outputs": [],
   "source": []
  },
  {
   "cell_type": "code",
   "execution_count": null,
   "id": "37280b07",
   "metadata": {},
   "outputs": [],
   "source": []
  },
  {
   "cell_type": "code",
   "execution_count": null,
   "id": "ef42a551",
   "metadata": {},
   "outputs": [],
   "source": []
  },
  {
   "cell_type": "code",
   "execution_count": null,
   "id": "7acb8021",
   "metadata": {},
   "outputs": [],
   "source": []
  },
  {
   "cell_type": "code",
   "execution_count": null,
   "id": "807fdd62",
   "metadata": {},
   "outputs": [],
   "source": []
  },
  {
   "cell_type": "code",
   "execution_count": null,
   "id": "abf7af41",
   "metadata": {},
   "outputs": [],
   "source": []
  },
  {
   "cell_type": "code",
   "execution_count": null,
   "id": "a8182607",
   "metadata": {},
   "outputs": [],
   "source": []
  },
  {
   "cell_type": "code",
   "execution_count": null,
   "id": "630f8044",
   "metadata": {},
   "outputs": [],
   "source": []
  },
  {
   "cell_type": "code",
   "execution_count": null,
   "id": "f7cb1172",
   "metadata": {},
   "outputs": [],
   "source": []
  },
  {
   "cell_type": "code",
   "execution_count": null,
   "id": "9e2c5dc7",
   "metadata": {},
   "outputs": [],
   "source": []
  },
  {
   "cell_type": "code",
   "execution_count": null,
   "id": "8c2384a0",
   "metadata": {},
   "outputs": [],
   "source": []
  },
  {
   "cell_type": "code",
   "execution_count": null,
   "id": "0c7b3c88",
   "metadata": {},
   "outputs": [],
   "source": []
  },
  {
   "cell_type": "code",
   "execution_count": null,
   "id": "46ef1a9a",
   "metadata": {},
   "outputs": [],
   "source": []
  },
  {
   "cell_type": "code",
   "execution_count": null,
   "id": "0a02af65",
   "metadata": {},
   "outputs": [],
   "source": []
  },
  {
   "cell_type": "code",
   "execution_count": null,
   "id": "a9837154",
   "metadata": {},
   "outputs": [],
   "source": []
  },
  {
   "cell_type": "code",
   "execution_count": null,
   "id": "f3ee889f",
   "metadata": {},
   "outputs": [],
   "source": []
  },
  {
   "cell_type": "code",
   "execution_count": null,
   "id": "4ebebf32",
   "metadata": {},
   "outputs": [],
   "source": []
  },
  {
   "cell_type": "code",
   "execution_count": null,
   "id": "50549d07",
   "metadata": {},
   "outputs": [],
   "source": []
  }
 ],
 "metadata": {
  "kernelspec": {
   "display_name": "Python 3 (ipykernel)",
   "language": "python",
   "name": "python3"
  },
  "language_info": {
   "codemirror_mode": {
    "name": "ipython",
    "version": 3
   },
   "file_extension": ".py",
   "mimetype": "text/x-python",
   "name": "python",
   "nbconvert_exporter": "python",
   "pygments_lexer": "ipython3",
   "version": "3.9.13"
  }
 },
 "nbformat": 4,
 "nbformat_minor": 5
}
