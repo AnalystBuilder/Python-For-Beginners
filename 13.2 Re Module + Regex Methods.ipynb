{
 "cells": [
  {
   "attachments": {
    "image.png": {
     "image/png": "[encoded data removed]"
    }
   },
   "cell_type": "markdown",
   "id": "550e2d7f",
   "metadata": {},
   "source": [
    "# Re Module + Regex Methods\n",
    "\n",
    "![image.png](attachment:image.png)\n"
   ]
  },
  {
   "cell_type": "code",
   "execution_count": 1,
   "id": "2dcccf79",
   "metadata": {},
   "outputs": [],
   "source": [
    "import re"
   ]
  },
  {
   "cell_type": "code",
   "execution_count": 2,
   "id": "8710ff7d",
   "metadata": {},
   "outputs": [
    {
     "data": {
      "text/plain": [
       "<re.Match object; span=(31, 35), match='hero'>"
      ]
     },
     "execution_count": 2,
     "metadata": {},
     "output_type": "execute_result"
    }
   ],
   "source": [
    "# Search\n",
    "\n",
    "quote = \"I saved a life. My own. Am I a hero? I really can't say, but yes. - Michael Scott\"\n",
    "\n",
    "\n",
    "re.search(\"hero\",quote)"
   ]
  },
  {
   "cell_type": "code",
   "execution_count": 6,
   "id": "3ad3efd4",
   "metadata": {},
   "outputs": [],
   "source": [
    "# Match\n",
    "\n",
    "re.match(\"saved\",quote)"
   ]
  },
  {
   "cell_type": "code",
   "execution_count": 9,
   "id": "b66ef9d8",
   "metadata": {},
   "outputs": [
    {
     "data": {
      "text/plain": [
       "3"
      ]
     },
     "execution_count": 9,
     "metadata": {},
     "output_type": "execute_result"
    }
   ],
   "source": [
    "# Find_all\n",
    "\n",
    "quote = \"I saved a life. My own. Am I a hero? I really can't say, but yes. - Michael Scott\"\n",
    "\n",
    "len(re.findall('I',quote))"
   ]
  },
  {
   "cell_type": "code",
   "execution_count": 12,
   "id": "8f2bcbd6",
   "metadata": {},
   "outputs": [
    {
     "data": {
      "text/plain": [
       "['I saved a life',\n",
       " ' My own',\n",
       " \" Am I a hero? I really can't say, but yes\",\n",
       " ' - Michael Scott']"
      ]
     },
     "execution_count": 12,
     "metadata": {},
     "output_type": "execute_result"
    }
   ],
   "source": [
    "#Split\n",
    "\n",
    "quote = \"I saved a life. My own. Am I a hero? I really can't say, but yes. - Michael Scott\"\n",
    "\n",
    "re.split('\\.', quote)\n",
    "\n"
   ]
  },
  {
   "cell_type": "code",
   "execution_count": 16,
   "id": "a3166c82",
   "metadata": {},
   "outputs": [
    {
     "data": {
      "text/plain": [
       "\"You saved a life. My own. Am You a hero? I really can't say, but yes. - Michael Scott\""
      ]
     },
     "execution_count": 16,
     "metadata": {},
     "output_type": "execute_result"
    }
   ],
   "source": [
    "# Sub\n",
    "\n",
    "quote = \"I saved a life. My own. Am I a hero? I really can't say, but yes. - Michael Scott\"\n",
    "\n",
    "\n",
    "re.sub('I','You',quote, count = 2)\n"
   ]
  },
  {
   "cell_type": "code",
   "execution_count": 18,
   "id": "aa114f25",
   "metadata": {},
   "outputs": [],
   "source": [
    "# finditer - findall replacement\n",
    "\n",
    "quote = \"I saved a life. My own. Am I a hero? I really can't say, but yes. - Michael Scott\"\n",
    "\n",
    "quote_finditer = re.finditer('I', quote)\n",
    "\n"
   ]
  },
  {
   "cell_type": "code",
   "execution_count": 19,
   "id": "c1a63379",
   "metadata": {},
   "outputs": [
    {
     "name": "stdout",
     "output_type": "stream",
     "text": [
      "<re.Match object; span=(0, 1), match='I'>\n",
      "<re.Match object; span=(27, 28), match='I'>\n",
      "<re.Match object; span=(37, 38), match='I'>\n"
     ]
    }
   ],
   "source": [
    "for match_obj in quote_finditer:\n",
    "    print(match_obj)"
   ]
  },
  {
   "cell_type": "code",
   "execution_count": null,
   "id": "808b2753",
   "metadata": {},
   "outputs": [],
   "source": []
  },
  {
   "cell_type": "code",
   "execution_count": null,
   "id": "54071865",
   "metadata": {},
   "outputs": [],
   "source": []
  },
  {
   "cell_type": "code",
   "execution_count": null,
   "id": "90240e2f",
   "metadata": {},
   "outputs": [],
   "source": []
  },
  {
   "cell_type": "code",
   "execution_count": null,
   "id": "580a2295",
   "metadata": {},
   "outputs": [],
   "source": []
  },
  {
   "cell_type": "code",
   "execution_count": null,
   "id": "38893bf8",
   "metadata": {},
   "outputs": [],
   "source": []
  },
  {
   "cell_type": "code",
   "execution_count": null,
   "id": "868d4027",
   "metadata": {},
   "outputs": [],
   "source": []
  },
  {
   "cell_type": "code",
   "execution_count": null,
   "id": "8ce10ef7",
   "metadata": {},
   "outputs": [],
   "source": []
  },
  {
   "cell_type": "code",
   "execution_count": null,
   "id": "565a4128",
   "metadata": {},
   "outputs": [],
   "source": []
  },
  {
   "cell_type": "code",
   "execution_count": null,
   "id": "50899460",
   "metadata": {},
   "outputs": [],
   "source": []
  },
  {
   "cell_type": "code",
   "execution_count": null,
   "id": "2b204d90",
   "metadata": {},
   "outputs": [],
   "source": []
  },
  {
   "cell_type": "code",
   "execution_count": null,
   "id": "28aa67e1",
   "metadata": {},
   "outputs": [],
   "source": []
  },
  {
   "cell_type": "code",
   "execution_count": null,
   "id": "3723e0e6",
   "metadata": {},
   "outputs": [],
   "source": []
  },
  {
   "cell_type": "code",
   "execution_count": null,
   "id": "48361f9c",
   "metadata": {},
   "outputs": [],
   "source": []
  },
  {
   "cell_type": "code",
   "execution_count": null,
   "id": "aa2cd760",
   "metadata": {},
   "outputs": [],
   "source": []
  },
  {
   "cell_type": "code",
   "execution_count": null,
   "id": "08b157a5",
   "metadata": {},
   "outputs": [],
   "source": []
  },
  {
   "cell_type": "code",
   "execution_count": null,
   "id": "6580d162",
   "metadata": {},
   "outputs": [],
   "source": []
  },
  {
   "cell_type": "code",
   "execution_count": null,
   "id": "36a159f5",
   "metadata": {},
   "outputs": [],
   "source": []
  },
  {
   "cell_type": "code",
   "execution_count": null,
   "id": "f0e4d677",
   "metadata": {},
   "outputs": [],
   "source": []
  },
  {
   "cell_type": "code",
   "execution_count": null,
   "id": "ead8584b",
   "metadata": {},
   "outputs": [],
   "source": []
  },
  {
   "cell_type": "code",
   "execution_count": null,
   "id": "7ce95892",
   "metadata": {},
   "outputs": [],
   "source": []
  },
  {
   "cell_type": "code",
   "execution_count": null,
   "id": "1546033c",
   "metadata": {},
   "outputs": [],
   "source": []
  },
  {
   "cell_type": "code",
   "execution_count": null,
   "id": "8e5644ce",
   "metadata": {},
   "outputs": [],
   "source": []
  },
  {
   "cell_type": "code",
   "execution_count": null,
   "id": "fad0a720",
   "metadata": {},
   "outputs": [],
   "source": []
  },
  {
   "cell_type": "code",
   "execution_count": null,
   "id": "68c0ecba",
   "metadata": {},
   "outputs": [],
   "source": []
  }
 ],
 "metadata": {
  "kernelspec": {
   "display_name": "Python 3 (ipykernel)",
   "language": "python",
   "name": "python3"
  },
  "language_info": {
   "codemirror_mode": {
    "name": "ipython",
    "version": 3
   },
   "file_extension": ".py",
   "mimetype": "text/x-python",
   "name": "python",
   "nbconvert_exporter": "python",
   "pygments_lexer": "ipython3",
   "version": "3.9.13"
  }
 },
 "nbformat": 4,
 "nbformat_minor": 5
}
