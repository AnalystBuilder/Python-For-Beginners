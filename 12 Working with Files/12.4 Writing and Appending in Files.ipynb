{
 "cells": [
  {
   "cell_type": "markdown",
   "id": "f54085b4",
   "metadata": {},
   "source": [
    "# Writing and Appending in Files"
   ]
  },
  {
   "cell_type": "code",
   "execution_count": 1,
   "id": "b060c6eb",
   "metadata": {},
   "outputs": [],
   "source": [
    "with open(r'C:\\Users\\alexf\\OneDrive\\Documents\\Python Tutorials\\NewFile.txt', 'w') as write_file:\n",
    "    write_file.write('First sentence in this file!')"
   ]
  },
  {
   "cell_type": "code",
   "execution_count": 2,
   "id": "eed473ec",
   "metadata": {},
   "outputs": [],
   "source": [
    "with open(r'C:\\Users\\alexf\\OneDrive\\Documents\\Python Tutorials\\NewFile.txt', 'a') as append_file:\n",
    "    append_file.write(' This is the second sentence.')"
   ]
  },
  {
   "cell_type": "code",
   "execution_count": 3,
   "id": "354d2fdd",
   "metadata": {},
   "outputs": [],
   "source": [
    "with open(r'C:\\Users\\alexf\\OneDrive\\Documents\\Python Tutorials\\NewFile.txt', 'a') as append_file:\n",
    "    append_file.write('\\nThis is the third sentence.')"
   ]
  },
  {
   "cell_type": "code",
   "execution_count": 6,
   "id": "161c0cf7",
   "metadata": {},
   "outputs": [
    {
     "name": "stdout",
     "output_type": "stream",
     "text": [
      "First sentence in this file! This is the second sentence.\n",
      "This is the third sentence.\n",
      "This is our Forth line.\n",
      "This is our Fifth line.\n",
      "This is our Sixth line.\n",
      "\n"
     ]
    }
   ],
   "source": [
    "with open(r'C:\\Users\\alexf\\OneDrive\\Documents\\Python Tutorials\\NewFile.txt', 'r') as read_file:\n",
    "    print(read_file.read())"
   ]
  },
  {
   "cell_type": "code",
   "execution_count": 5,
   "id": "ef20e296",
   "metadata": {},
   "outputs": [],
   "source": [
    "multiline = \"\"\"\n",
    "This is our Forth line.\n",
    "This is our Fifth line.\n",
    "This is our Sixth line.\n",
    "\"\"\"\n",
    "\n",
    "with open(r'C:\\Users\\alexf\\OneDrive\\Documents\\Python Tutorials\\NewFile.txt', 'a') as append_file:\n",
    "    append_file.write(multiline)"
   ]
  },
  {
   "cell_type": "code",
   "execution_count": 7,
   "id": "0f3d26b4",
   "metadata": {},
   "outputs": [],
   "source": [
    "with open(r'C:\\Users\\alexf\\OneDrive\\Documents\\Python Tutorials\\CSVFile.csv', 'w') as write_file:\n",
    "    write_file.write('First sentence in this file!')"
   ]
  },
  {
   "cell_type": "code",
   "execution_count": 8,
   "id": "20ff75c2",
   "metadata": {},
   "outputs": [],
   "source": [
    "import csv\n",
    "\n",
    "#writerow\n",
    "#writerows"
   ]
  },
  {
   "cell_type": "code",
   "execution_count": 10,
   "id": "a2b8dabf",
   "metadata": {},
   "outputs": [],
   "source": [
    "column_names = ['Name', 'Age', 'Job']\n",
    "\n",
    "row_data = [['Alex','55','Data Analyst'],['Josh','81','President'],['Kelly','40','Software Engineer']]\n",
    "\n",
    "with open(r'C:\\Users\\alexf\\OneDrive\\Documents\\Python Tutorials\\CSVFile2.csv', 'w', newline='') as write_file:\n",
    "    csv_writer = csv.writer(write_file)\n",
    "    \n",
    "    csv_writer.writerow(column_names)\n",
    "    \n",
    "    csv_writer.writerows(row_data)\n",
    "\n"
   ]
  },
  {
   "cell_type": "code",
   "execution_count": 14,
   "id": "3b9f73bf",
   "metadata": {},
   "outputs": [],
   "source": [
    "dict_row = [{'Name':'Alex','Age':'55','Job':'Data Analyst'},\n",
    "           {'Name':'Josh','Age':'81','Job':'President'},\n",
    "           {'Name':'Kelly','Age':'40','Job':'Software Engineer'}]\n",
    "\n",
    "\n",
    "column_names = ['Name', 'Age', 'Job']\n",
    "\n",
    "\n",
    "with open(r'C:\\Users\\alexf\\OneDrive\\Documents\\Python Tutorials\\CSVFile2.csv', 'w', newline='') as write_file:\n",
    "    dict_writer = csv.DictWriter(write_file, column_names)\n",
    "    \n",
    "    dict_writer.writeheader()\n",
    "    \n",
    "    dict_writer.writerows(dict_row)\n",
    "    \n",
    "    \n",
    "\n",
    "\n"
   ]
  },
  {
   "cell_type": "code",
   "execution_count": 15,
   "id": "c9b3410e",
   "metadata": {},
   "outputs": [],
   "source": [
    "import json"
   ]
  },
  {
   "cell_type": "code",
   "execution_count": 16,
   "id": "dae26864",
   "metadata": {},
   "outputs": [],
   "source": [
    "dict_row = [{'Name':'Alex','Age':'55','Job':'Data Analyst'},\n",
    "           {'Name':'Josh','Age':'81','Job':'President'},\n",
    "           {'Name':'Kelly','Age':'40','Job':'Software Engineer'}]\n",
    "\n",
    "with open(r'C:\\Users\\alexf\\OneDrive\\Documents\\Python Tutorials\\JSONFile.json', 'w', newline='') as write_file:\n",
    "    json.dump(dict_row, write_file)\n",
    "    "
   ]
  },
  {
   "cell_type": "code",
   "execution_count": null,
   "id": "2bbde12f",
   "metadata": {},
   "outputs": [],
   "source": []
  },
  {
   "cell_type": "code",
   "execution_count": null,
   "id": "cd3d12cd",
   "metadata": {},
   "outputs": [],
   "source": []
  },
  {
   "cell_type": "code",
   "execution_count": null,
   "id": "8c09c5cd",
   "metadata": {},
   "outputs": [],
   "source": []
  },
  {
   "cell_type": "code",
   "execution_count": null,
   "id": "f0123ccd",
   "metadata": {},
   "outputs": [],
   "source": []
  },
  {
   "cell_type": "code",
   "execution_count": null,
   "id": "0a71d69b",
   "metadata": {},
   "outputs": [],
   "source": []
  },
  {
   "cell_type": "code",
   "execution_count": null,
   "id": "7f5d412b",
   "metadata": {},
   "outputs": [],
   "source": []
  },
  {
   "cell_type": "code",
   "execution_count": null,
   "id": "eb3f6048",
   "metadata": {},
   "outputs": [],
   "source": []
  },
  {
   "cell_type": "code",
   "execution_count": null,
   "id": "a048632e",
   "metadata": {},
   "outputs": [],
   "source": []
  },
  {
   "cell_type": "code",
   "execution_count": null,
   "id": "be389cbf",
   "metadata": {},
   "outputs": [],
   "source": []
  },
  {
   "cell_type": "code",
   "execution_count": null,
   "id": "ac09c69f",
   "metadata": {},
   "outputs": [],
   "source": []
  },
  {
   "cell_type": "code",
   "execution_count": null,
   "id": "54a4d0d7",
   "metadata": {},
   "outputs": [],
   "source": []
  },
  {
   "cell_type": "code",
   "execution_count": null,
   "id": "44f063f5",
   "metadata": {},
   "outputs": [],
   "source": []
  },
  {
   "cell_type": "code",
   "execution_count": null,
   "id": "c4f25c03",
   "metadata": {},
   "outputs": [],
   "source": []
  },
  {
   "cell_type": "code",
   "execution_count": null,
   "id": "bd6f7123",
   "metadata": {},
   "outputs": [],
   "source": []
  },
  {
   "cell_type": "code",
   "execution_count": null,
   "id": "5dc88cad",
   "metadata": {},
   "outputs": [],
   "source": []
  },
  {
   "cell_type": "code",
   "execution_count": null,
   "id": "aef4f8ca",
   "metadata": {},
   "outputs": [],
   "source": []
  },
  {
   "cell_type": "code",
   "execution_count": null,
   "id": "7bbb52d8",
   "metadata": {},
   "outputs": [],
   "source": []
  },
  {
   "cell_type": "code",
   "execution_count": null,
   "id": "0c8694d2",
   "metadata": {},
   "outputs": [],
   "source": []
  },
  {
   "cell_type": "code",
   "execution_count": null,
   "id": "04170486",
   "metadata": {},
   "outputs": [],
   "source": []
  },
  {
   "cell_type": "code",
   "execution_count": null,
   "id": "2fa80263",
   "metadata": {},
   "outputs": [],
   "source": []
  }
 ],
 "metadata": {
  "kernelspec": {
   "display_name": "Python 3 (ipykernel)",
   "language": "python",
   "name": "python3"
  },
  "language_info": {
   "codemirror_mode": {
    "name": "ipython",
    "version": 3
   },
   "file_extension": ".py",
   "mimetype": "text/x-python",
   "name": "python",
   "nbconvert_exporter": "python",
   "pygments_lexer": "ipython3",
   "version": "3.9.13"
  }
 },
 "nbformat": 4,
 "nbformat_minor": 5
}
