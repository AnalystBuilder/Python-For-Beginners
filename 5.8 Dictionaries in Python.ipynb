{
 "cells": [
  {
   "cell_type": "markdown",
   "id": "6f4ed71a",
   "metadata": {},
   "source": [
    "# Dictionaries"
   ]
  },
  {
   "cell_type": "code",
   "execution_count": 2,
   "id": "e66658c3",
   "metadata": {},
   "outputs": [
    {
     "name": "stdout",
     "output_type": "stream",
     "text": [
      "{'Name': 'Johnny John', 'Flavor Purchased': ['Chocolate', 'Mint Chocolate Chip'], 'Age': 15}\n"
     ]
    }
   ],
   "source": [
    "customer = {'Name':'Johnny John','Flavor Purchased': ['Chocolate','Mint Chocolate Chip'], 'Age':15}\n",
    "\n",
    "print(customer)"
   ]
  },
  {
   "cell_type": "code",
   "execution_count": 3,
   "id": "c7af95a6",
   "metadata": {},
   "outputs": [
    {
     "data": {
      "text/plain": [
       "dict"
      ]
     },
     "execution_count": 3,
     "metadata": {},
     "output_type": "execute_result"
    }
   ],
   "source": [
    "type(customer)"
   ]
  },
  {
   "cell_type": "code",
   "execution_count": 5,
   "id": "d66026c2",
   "metadata": {},
   "outputs": [
    {
     "name": "stdout",
     "output_type": "stream",
     "text": [
      "dict_keys(['Name', 'Flavor Purchased', 'Age'])\n"
     ]
    }
   ],
   "source": [
    "customer.keys()"
   ]
  },
  {
   "cell_type": "code",
   "execution_count": 6,
   "id": "5cb7db57",
   "metadata": {},
   "outputs": [
    {
     "data": {
      "text/plain": [
       "dict_values(['Johnny John', ['Chocolate', 'Mint Chocolate Chip'], 15])"
      ]
     },
     "execution_count": 6,
     "metadata": {},
     "output_type": "execute_result"
    }
   ],
   "source": [
    "customer.values()"
   ]
  },
  {
   "cell_type": "code",
   "execution_count": 7,
   "id": "84bd5959",
   "metadata": {},
   "outputs": [
    {
     "data": {
      "text/plain": [
       "dict_items([('Name', 'Johnny John'), ('Flavor Purchased', ['Chocolate', 'Mint Chocolate Chip']), ('Age', 15)])"
      ]
     },
     "execution_count": 7,
     "metadata": {},
     "output_type": "execute_result"
    }
   ],
   "source": [
    "customer.items()"
   ]
  },
  {
   "cell_type": "code",
   "execution_count": 8,
   "id": "5fe1bb13",
   "metadata": {},
   "outputs": [
    {
     "ename": "KeyError",
     "evalue": "0",
     "output_type": "error",
     "traceback": [
      "\u001b[1;31m---------------------------------------------------------------------------\u001b[0m",
      "\u001b[1;31mKeyError\u001b[0m                                  Traceback (most recent call last)",
      "\u001b[1;32m~\\AppData\\Local\\Temp\\ipykernel_407952\\3719364086.py\u001b[0m in \u001b[0;36m<module>\u001b[1;34m\u001b[0m\n\u001b[1;32m----> 1\u001b[1;33m \u001b[0mcustomer\u001b[0m\u001b[1;33m[\u001b[0m\u001b[1;36m0\u001b[0m\u001b[1;33m]\u001b[0m\u001b[1;33m\u001b[0m\u001b[1;33m\u001b[0m\u001b[0m\n\u001b[0m",
      "\u001b[1;31mKeyError\u001b[0m: 0"
     ]
    }
   ],
   "source": [
    "customer[0]"
   ]
  },
  {
   "cell_type": "code",
   "execution_count": 26,
   "id": "151fd441",
   "metadata": {},
   "outputs": [
    {
     "name": "stdout",
     "output_type": "stream",
     "text": [
      "{'Name': 'Johnny John', 'Flavor Purchased': ['Chocolate', 'Mint Chocolate Chip'], 'Age': 15}\n"
     ]
    }
   ],
   "source": [
    "customer = {'Name':'Johnny John','Flavor Purchased': ['Chocolate','Mint Chocolate Chip'], 'Age':15}\n",
    "\n",
    "print(customer)"
   ]
  },
  {
   "cell_type": "code",
   "execution_count": 27,
   "id": "ca9436c2",
   "metadata": {},
   "outputs": [],
   "source": [
    "customer['Money Spent'] = 12.79"
   ]
  },
  {
   "cell_type": "code",
   "execution_count": 28,
   "id": "addc9704",
   "metadata": {},
   "outputs": [
    {
     "name": "stdout",
     "output_type": "stream",
     "text": [
      "{'Name': 'Johnny John', 'Flavor Purchased': ['Chocolate', 'Mint Chocolate Chip'], 'Age': 15, 'Money Spent': 12.79}\n"
     ]
    }
   ],
   "source": [
    "print(customer)"
   ]
  },
  {
   "cell_type": "code",
   "execution_count": 29,
   "id": "a8c6ac15",
   "metadata": {},
   "outputs": [],
   "source": [
    "customer.update({'Name': 'Johnny John', 'Flavor Purchased': ['Chocolate', 'Mint Chocolate Chip'], 'Age': 15, 'Money Spent': 10.79})"
   ]
  },
  {
   "cell_type": "code",
   "execution_count": 30,
   "id": "1ff7e4bd",
   "metadata": {},
   "outputs": [
    {
     "name": "stdout",
     "output_type": "stream",
     "text": [
      "{'Name': 'Johnny John', 'Flavor Purchased': ['Chocolate', 'Mint Chocolate Chip'], 'Age': 15, 'Money Spent': 10.79}\n"
     ]
    }
   ],
   "source": [
    "print(customer)"
   ]
  },
  {
   "cell_type": "code",
   "execution_count": 31,
   "id": "549b1c7c",
   "metadata": {},
   "outputs": [],
   "source": [
    "customer.update({'Name': 'Johnny John', 'Flavor Purchased': ['Chocolate', 'Mint Chocolate Chip'], 'Age': 15, 'Purchased Amount': 10.79})"
   ]
  },
  {
   "cell_type": "code",
   "execution_count": 32,
   "id": "10107fc6",
   "metadata": {},
   "outputs": [
    {
     "name": "stdout",
     "output_type": "stream",
     "text": [
      "{'Name': 'Johnny John', 'Flavor Purchased': ['Chocolate', 'Mint Chocolate Chip'], 'Age': 15, 'Money Spent': 10.79, 'Purchased Amount': 10.79}\n"
     ]
    }
   ],
   "source": [
    "print(customer)"
   ]
  },
  {
   "cell_type": "code",
   "execution_count": 33,
   "id": "1eefe1ff",
   "metadata": {},
   "outputs": [
    {
     "name": "stdout",
     "output_type": "stream",
     "text": [
      "{'Name': 'Johnny John', 'Flavor Purchased': ['Chocolate', 'Mint Chocolate Chip'], 'Age': 15, 'Money Spent': 10.79}\n"
     ]
    }
   ],
   "source": [
    "del customer['Purchased Amount']\n",
    "\n",
    "print(customer)"
   ]
  },
  {
   "cell_type": "code",
   "execution_count": 34,
   "id": "9cf554ac",
   "metadata": {},
   "outputs": [
    {
     "name": "stdout",
     "output_type": "stream",
     "text": [
      "10.79\n"
     ]
    }
   ],
   "source": [
    "customer_spent = customer.pop('Money Spent')\n",
    "\n",
    "print(customer_spent)"
   ]
  },
  {
   "cell_type": "code",
   "execution_count": 35,
   "id": "ee14a2e2",
   "metadata": {},
   "outputs": [
    {
     "name": "stdout",
     "output_type": "stream",
     "text": [
      "{'Name': 'Johnny John', 'Flavor Purchased': ['Chocolate', 'Mint Chocolate Chip'], 'Age': 15}\n"
     ]
    }
   ],
   "source": [
    "print(customer)"
   ]
  },
  {
   "cell_type": "code",
   "execution_count": 36,
   "id": "af8de2e9",
   "metadata": {},
   "outputs": [],
   "source": [
    "nest_dict = {1:'Value',2: 'Value_2', 3:{'Name': 'Johnny John', 'Flavor Purchased': ['Chocolate', 'Mint Chocolate Chip'], 'Age': 15}}"
   ]
  },
  {
   "cell_type": "code",
   "execution_count": 37,
   "id": "3db65fe5",
   "metadata": {},
   "outputs": [
    {
     "name": "stdout",
     "output_type": "stream",
     "text": [
      "{1: 'Value', 2: 'Value_2', 3: {'Name': 'Johnny John', 'Flavor Purchased': ['Chocolate', 'Mint Chocolate Chip'], 'Age': 15}}\n"
     ]
    }
   ],
   "source": [
    "print(nest_dict)"
   ]
  },
  {
   "cell_type": "code",
   "execution_count": 38,
   "id": "2aada7a6",
   "metadata": {},
   "outputs": [
    {
     "data": {
      "text/plain": [
       "{'Name': 'Johnny John',\n",
       " 'Flavor Purchased': ['Chocolate', 'Mint Chocolate Chip'],\n",
       " 'Age': 15}"
      ]
     },
     "execution_count": 38,
     "metadata": {},
     "output_type": "execute_result"
    }
   ],
   "source": [
    "nest_dict[3]"
   ]
  },
  {
   "cell_type": "code",
   "execution_count": 39,
   "id": "18cdbdb2",
   "metadata": {},
   "outputs": [
    {
     "data": {
      "text/plain": [
       "['Chocolate', 'Mint Chocolate Chip']"
      ]
     },
     "execution_count": 39,
     "metadata": {},
     "output_type": "execute_result"
    }
   ],
   "source": [
    "nest_dict[3]['Flavor Purchased']"
   ]
  },
  {
   "cell_type": "code",
   "execution_count": 40,
   "id": "fb92b2c9",
   "metadata": {},
   "outputs": [
    {
     "data": {
      "text/plain": [
       "'Mint Chocolate Chip'"
      ]
     },
     "execution_count": 40,
     "metadata": {},
     "output_type": "execute_result"
    }
   ],
   "source": [
    "nest_dict[3]['Flavor Purchased'][1]"
   ]
  },
  {
   "cell_type": "code",
   "execution_count": null,
   "id": "ac9ba0be",
   "metadata": {},
   "outputs": [],
   "source": []
  },
  {
   "cell_type": "code",
   "execution_count": null,
   "id": "f50cc782",
   "metadata": {},
   "outputs": [],
   "source": []
  },
  {
   "cell_type": "code",
   "execution_count": null,
   "id": "dbbb3402",
   "metadata": {},
   "outputs": [],
   "source": []
  },
  {
   "cell_type": "code",
   "execution_count": null,
   "id": "421b93f9",
   "metadata": {},
   "outputs": [],
   "source": []
  },
  {
   "cell_type": "code",
   "execution_count": null,
   "id": "fa28741b",
   "metadata": {},
   "outputs": [],
   "source": []
  },
  {
   "cell_type": "code",
   "execution_count": null,
   "id": "5c44a278",
   "metadata": {},
   "outputs": [],
   "source": []
  },
  {
   "cell_type": "code",
   "execution_count": null,
   "id": "c5906bcf",
   "metadata": {},
   "outputs": [],
   "source": []
  },
  {
   "cell_type": "code",
   "execution_count": null,
   "id": "301fa73d",
   "metadata": {},
   "outputs": [],
   "source": []
  },
  {
   "cell_type": "code",
   "execution_count": null,
   "id": "34c6095c",
   "metadata": {},
   "outputs": [],
   "source": []
  },
  {
   "cell_type": "code",
   "execution_count": null,
   "id": "742608ae",
   "metadata": {},
   "outputs": [],
   "source": []
  },
  {
   "cell_type": "code",
   "execution_count": null,
   "id": "a5bd478f",
   "metadata": {},
   "outputs": [],
   "source": []
  },
  {
   "cell_type": "code",
   "execution_count": null,
   "id": "9b7293eb",
   "metadata": {},
   "outputs": [],
   "source": []
  },
  {
   "cell_type": "code",
   "execution_count": null,
   "id": "571f13ab",
   "metadata": {},
   "outputs": [],
   "source": []
  },
  {
   "cell_type": "code",
   "execution_count": null,
   "id": "3962095b",
   "metadata": {},
   "outputs": [],
   "source": []
  },
  {
   "cell_type": "code",
   "execution_count": null,
   "id": "db8b4b01",
   "metadata": {},
   "outputs": [],
   "source": []
  }
 ],
 "metadata": {
  "kernelspec": {
   "display_name": "Python 3 (ipykernel)",
   "language": "python",
   "name": "python3"
  },
  "language_info": {
   "codemirror_mode": {
    "name": "ipython",
    "version": 3
   },
   "file_extension": ".py",
   "mimetype": "text/x-python",
   "name": "python",
   "nbconvert_exporter": "python",
   "pygments_lexer": "ipython3",
   "version": "3.9.13"
  }
 },
 "nbformat": 4,
 "nbformat_minor": 5
}
