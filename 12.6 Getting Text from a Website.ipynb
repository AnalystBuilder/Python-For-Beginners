{
 "cells": [
  {
   "cell_type": "markdown",
   "id": "e006504f",
   "metadata": {},
   "source": [
    "# Getting Text from a Website"
   ]
  },
  {
   "cell_type": "code",
   "execution_count": 1,
   "id": "c22a3f5d",
   "metadata": {},
   "outputs": [],
   "source": [
    "from bs4 import BeautifulSoup\n",
    "import requests"
   ]
  },
  {
   "cell_type": "code",
   "execution_count": 2,
   "id": "b6ec07c3",
   "metadata": {},
   "outputs": [],
   "source": [
    "url = 'https://webscraper.io/test-sites/e-commerce/allinone/phones'\n",
    "\n",
    "page = requests.get(url)\n",
    "\n",
    "soup = BeautifulSoup(page.text, 'html')"
   ]
  },
  {
   "cell_type": "code",
   "execution_count": 4,
   "id": "5434b036",
   "metadata": {},
   "outputs": [
    {
     "data": {
      "text/plain": [
       "[<h4 class=\"pull-right price\">$109.99</h4>,\n",
       " <h4 class=\"pull-right price\">$499.99</h4>,\n",
       " <h4 class=\"pull-right price\">$24.99</h4>]"
      ]
     },
     "execution_count": 4,
     "metadata": {},
     "output_type": "execute_result"
    }
   ],
   "source": [
    "soup.find_all('h4', class_ = 'pull-right price')"
   ]
  },
  {
   "cell_type": "code",
   "execution_count": 5,
   "id": "eaa0c045",
   "metadata": {},
   "outputs": [
    {
     "data": {
      "text/plain": [
       "[<a class=\"title\" href=\"/test-sites/e-commerce/allinone/product/489\" title=\"Nokia X\">Nokia X</a>,\n",
       " <a class=\"title\" href=\"/test-sites/e-commerce/allinone/product/491\" title=\"Ubuntu Edge\">Ubuntu Edge</a>,\n",
       " <a class=\"title\" href=\"/test-sites/e-commerce/allinone/product/486\" title=\"Nokia 123\">Nokia 123</a>]"
      ]
     },
     "execution_count": 5,
     "metadata": {},
     "output_type": "execute_result"
    }
   ],
   "source": [
    "soup.find_all('a', {'class':'title'})"
   ]
  },
  {
   "cell_type": "code",
   "execution_count": 7,
   "id": "70f5e355",
   "metadata": {},
   "outputs": [
    {
     "data": {
      "text/plain": [
       "'Nokia X'"
      ]
     },
     "execution_count": 7,
     "metadata": {},
     "output_type": "execute_result"
    }
   ],
   "source": [
    "soup.find('a', {'class':'title'}).text"
   ]
  },
  {
   "cell_type": "code",
   "execution_count": 8,
   "id": "ef9d9d26",
   "metadata": {},
   "outputs": [
    {
     "data": {
      "text/plain": [
       "'$109.99'"
      ]
     },
     "execution_count": 8,
     "metadata": {},
     "output_type": "execute_result"
    }
   ],
   "source": [
    "soup.find('h4', class_ = 'pull-right price').text"
   ]
  },
  {
   "cell_type": "code",
   "execution_count": 9,
   "id": "e3535b0b",
   "metadata": {},
   "outputs": [],
   "source": [
    "all_titles = soup.find_all('a', {'class':'title'})"
   ]
  },
  {
   "cell_type": "code",
   "execution_count": 10,
   "id": "549ffebc",
   "metadata": {},
   "outputs": [],
   "source": [
    "all_prices = soup.find_all('h4', class_ = 'pull-right price')"
   ]
  },
  {
   "cell_type": "code",
   "execution_count": 11,
   "id": "5277c017",
   "metadata": {},
   "outputs": [
    {
     "name": "stdout",
     "output_type": "stream",
     "text": [
      "['Nokia X', 'Ubuntu Edge', 'Nokia 123']\n"
     ]
    }
   ],
   "source": [
    "all_title_text = [title.text for title in all_titles]\n",
    "\n",
    "print(all_title_text)"
   ]
  },
  {
   "cell_type": "code",
   "execution_count": 12,
   "id": "1ce8edb7",
   "metadata": {},
   "outputs": [
    {
     "name": "stdout",
     "output_type": "stream",
     "text": [
      "['$109.99', '$499.99', '$24.99']\n"
     ]
    }
   ],
   "source": [
    "all_prices_text = [price.text for price in all_prices]\n",
    "\n",
    "print(all_prices_text)"
   ]
  },
  {
   "cell_type": "code",
   "execution_count": null,
   "id": "80718593",
   "metadata": {},
   "outputs": [],
   "source": []
  },
  {
   "cell_type": "code",
   "execution_count": null,
   "id": "cdbf9d4a",
   "metadata": {},
   "outputs": [],
   "source": []
  },
  {
   "cell_type": "code",
   "execution_count": null,
   "id": "ac7695b5",
   "metadata": {},
   "outputs": [],
   "source": []
  },
  {
   "cell_type": "code",
   "execution_count": null,
   "id": "2286b986",
   "metadata": {},
   "outputs": [],
   "source": []
  },
  {
   "cell_type": "code",
   "execution_count": null,
   "id": "30506d5c",
   "metadata": {},
   "outputs": [],
   "source": []
  },
  {
   "cell_type": "code",
   "execution_count": null,
   "id": "55d3920c",
   "metadata": {},
   "outputs": [],
   "source": []
  },
  {
   "cell_type": "code",
   "execution_count": null,
   "id": "057b70f0",
   "metadata": {},
   "outputs": [],
   "source": []
  },
  {
   "cell_type": "code",
   "execution_count": null,
   "id": "115a21c7",
   "metadata": {},
   "outputs": [],
   "source": []
  },
  {
   "cell_type": "code",
   "execution_count": null,
   "id": "f1aad19e",
   "metadata": {},
   "outputs": [],
   "source": []
  },
  {
   "cell_type": "code",
   "execution_count": null,
   "id": "80b86109",
   "metadata": {},
   "outputs": [],
   "source": []
  },
  {
   "cell_type": "code",
   "execution_count": null,
   "id": "5eb42f7c",
   "metadata": {},
   "outputs": [],
   "source": []
  },
  {
   "cell_type": "code",
   "execution_count": null,
   "id": "bc173d1c",
   "metadata": {},
   "outputs": [],
   "source": []
  },
  {
   "cell_type": "code",
   "execution_count": null,
   "id": "d85b2b1c",
   "metadata": {},
   "outputs": [],
   "source": []
  },
  {
   "cell_type": "code",
   "execution_count": null,
   "id": "8758a2b9",
   "metadata": {},
   "outputs": [],
   "source": []
  },
  {
   "cell_type": "code",
   "execution_count": null,
   "id": "ba7c828d",
   "metadata": {},
   "outputs": [],
   "source": []
  },
  {
   "cell_type": "code",
   "execution_count": null,
   "id": "316d7c51",
   "metadata": {},
   "outputs": [],
   "source": []
  },
  {
   "cell_type": "code",
   "execution_count": null,
   "id": "ff1b838d",
   "metadata": {},
   "outputs": [],
   "source": []
  },
  {
   "cell_type": "code",
   "execution_count": null,
   "id": "6ea6089b",
   "metadata": {},
   "outputs": [],
   "source": []
  },
  {
   "cell_type": "code",
   "execution_count": null,
   "id": "aed5b607",
   "metadata": {},
   "outputs": [],
   "source": []
  },
  {
   "cell_type": "code",
   "execution_count": null,
   "id": "7b6bbfaa",
   "metadata": {},
   "outputs": [],
   "source": []
  },
  {
   "cell_type": "code",
   "execution_count": null,
   "id": "53f111eb",
   "metadata": {},
   "outputs": [],
   "source": []
  },
  {
   "cell_type": "code",
   "execution_count": null,
   "id": "99f69088",
   "metadata": {},
   "outputs": [],
   "source": []
  },
  {
   "cell_type": "code",
   "execution_count": null,
   "id": "0af51b34",
   "metadata": {},
   "outputs": [],
   "source": []
  }
 ],
 "metadata": {
  "kernelspec": {
   "display_name": "Python 3 (ipykernel)",
   "language": "python",
   "name": "python3"
  },
  "language_info": {
   "codemirror_mode": {
    "name": "ipython",
    "version": 3
   },
   "file_extension": ".py",
   "mimetype": "text/x-python",
   "name": "python",
   "nbconvert_exporter": "python",
   "pygments_lexer": "ipython3",
   "version": "3.9.13"
  }
 },
 "nbformat": 4,
 "nbformat_minor": 5
}
