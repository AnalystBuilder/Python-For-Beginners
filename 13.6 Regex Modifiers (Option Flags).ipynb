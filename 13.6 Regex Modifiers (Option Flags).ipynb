{
 "cells": [
  {
   "attachments": {},
   "cell_type": "markdown",
   "id": "e33b6899",
   "metadata": {},
   "source": [
    "# Regex Modifiers (Option Flags)\n"
   ]
  },
  {
   "cell_type": "code",
   "execution_count": 1,
   "id": "6b8e84e4",
   "metadata": {},
   "outputs": [],
   "source": [
    "import re"
   ]
  },
  {
   "cell_type": "code",
   "execution_count": 2,
   "id": "fe265e96",
   "metadata": {},
   "outputs": [],
   "source": [
    "string = 'My name is Mr. Freberg. My phone number is 238-234-2348. My email is Python4funz@gmail.com'"
   ]
  },
  {
   "cell_type": "code",
   "execution_count": 3,
   "id": "72777132",
   "metadata": {},
   "outputs": [
    {
     "data": {
      "text/plain": [
       "['name', 'is', 'phone', 'number', 'is', 'email', 'is', 'gmail', 'com']"
      ]
     },
     "execution_count": 3,
     "metadata": {},
     "output_type": "execute_result"
    }
   ],
   "source": [
    "re.findall(r'\\b[a-z]+\\b',string)"
   ]
  },
  {
   "cell_type": "code",
   "execution_count": 5,
   "id": "230f156d",
   "metadata": {},
   "outputs": [
    {
     "name": "stdout",
     "output_type": "stream",
     "text": [
      "['My', 'name', 'is', 'Mr', 'Freberg', 'My', 'phone', 'number', 'is', 'My', 'email', 'is', 'gmail', 'com']\n"
     ]
    }
   ],
   "source": [
    "print(re.findall(r'\\b[a-z]+\\b',string, re.I))"
   ]
  },
  {
   "cell_type": "code",
   "execution_count": 7,
   "id": "6e3b7e19",
   "metadata": {},
   "outputs": [
    {
     "name": "stdout",
     "output_type": "stream",
     "text": [
      "['My', 'name', 'is', 'Mr', 'Freberg', 'My', 'phone', 'number', 'is', 'My', 'email', 'is', 'gmail', 'com']\n"
     ]
    }
   ],
   "source": [
    "print(re.findall(r'\\b[a-zA-z]+\\b',string))"
   ]
  },
  {
   "cell_type": "code",
   "execution_count": 11,
   "id": "f5d1689e",
   "metadata": {},
   "outputs": [],
   "source": [
    "# re.M\n",
    "\n",
    "string = 'Alex likes the number 16\\nChristine likes the number 24'\n",
    "\n",
    "string2 = \"\"\"Alex likes the number 16\n",
    "Christine likes the number 24\"\"\""
   ]
  },
  {
   "cell_type": "code",
   "execution_count": 9,
   "id": "72374289",
   "metadata": {},
   "outputs": [
    {
     "name": "stdout",
     "output_type": "stream",
     "text": [
      "['Alex']\n"
     ]
    }
   ],
   "source": [
    "print(re.findall(r'^\\w{4}',string))"
   ]
  },
  {
   "cell_type": "code",
   "execution_count": 12,
   "id": "496b054c",
   "metadata": {},
   "outputs": [
    {
     "name": "stdout",
     "output_type": "stream",
     "text": [
      "['Alex', 'Chri']\n"
     ]
    }
   ],
   "source": [
    "print(re.findall(r'^\\w{4}',string2, re.M))"
   ]
  },
  {
   "cell_type": "code",
   "execution_count": 13,
   "id": "2fbb1914",
   "metadata": {},
   "outputs": [
    {
     "name": "stdout",
     "output_type": "stream",
     "text": [
      "['24']\n"
     ]
    }
   ],
   "source": [
    "print(re.findall(r'\\d{2}$',string))"
   ]
  },
  {
   "cell_type": "code",
   "execution_count": 14,
   "id": "0bf23850",
   "metadata": {},
   "outputs": [
    {
     "name": "stdout",
     "output_type": "stream",
     "text": [
      "['16', '24']\n"
     ]
    }
   ],
   "source": [
    "print(re.findall(r'\\d{2}$',string, re.M))"
   ]
  },
  {
   "cell_type": "code",
   "execution_count": 15,
   "id": "71aacdcf",
   "metadata": {},
   "outputs": [],
   "source": [
    "# re.S\n",
    "\n",
    "string = 'I like ice cream\\nI like pie'"
   ]
  },
  {
   "cell_type": "code",
   "execution_count": 17,
   "id": "56571e73",
   "metadata": {},
   "outputs": [
    {
     "name": "stdout",
     "output_type": "stream",
     "text": [
      "I like ice cream\n"
     ]
    }
   ],
   "source": [
    "result = re.search(r'.+', string)\n",
    "print(result.group())"
   ]
  },
  {
   "cell_type": "code",
   "execution_count": 18,
   "id": "0e19932a",
   "metadata": {},
   "outputs": [
    {
     "name": "stdout",
     "output_type": "stream",
     "text": [
      "I like ice cream\n",
      "I like pie\n"
     ]
    }
   ],
   "source": [
    "result = re.search(r'.+', string, re.S)\n",
    "print(result.group())"
   ]
  },
  {
   "cell_type": "code",
   "execution_count": 19,
   "id": "6706c8d0",
   "metadata": {},
   "outputs": [],
   "source": [
    "# re.X\n",
    "\n",
    "string = 'Alex has how many dogs? 20'"
   ]
  },
  {
   "cell_type": "code",
   "execution_count": 23,
   "id": "642ff7fc",
   "metadata": {},
   "outputs": [
    {
     "name": "stdout",
     "output_type": "stream",
     "text": [
      "Alex has how many dogs? 20\n",
      "Alex\n"
     ]
    }
   ],
   "source": [
    "result = re.search(r\"\"\"(^\\w{4}) #This needs to be a 4 letter word at the beginning\n",
    ".+(\\d{2}$) #This needs to be a 2 digit number at the end\"\"\", string, re.X)\n",
    "\n",
    "print(result.group())\n",
    "\n",
    "print(result.group(1))"
   ]
  },
  {
   "cell_type": "code",
   "execution_count": null,
   "id": "053cea31",
   "metadata": {},
   "outputs": [],
   "source": []
  },
  {
   "cell_type": "code",
   "execution_count": null,
   "id": "93a2605b",
   "metadata": {},
   "outputs": [],
   "source": []
  },
  {
   "cell_type": "code",
   "execution_count": null,
   "id": "3065af84",
   "metadata": {},
   "outputs": [],
   "source": []
  },
  {
   "cell_type": "code",
   "execution_count": null,
   "id": "9f8053a4",
   "metadata": {},
   "outputs": [],
   "source": []
  },
  {
   "cell_type": "code",
   "execution_count": null,
   "id": "d9cc2ea5",
   "metadata": {},
   "outputs": [],
   "source": []
  },
  {
   "cell_type": "code",
   "execution_count": null,
   "id": "9f9b3dfb",
   "metadata": {},
   "outputs": [],
   "source": []
  },
  {
   "cell_type": "code",
   "execution_count": null,
   "id": "129c5c0b",
   "metadata": {},
   "outputs": [],
   "source": []
  },
  {
   "cell_type": "code",
   "execution_count": null,
   "id": "8dea7e8c",
   "metadata": {},
   "outputs": [],
   "source": []
  },
  {
   "cell_type": "code",
   "execution_count": null,
   "id": "fd4ff79b",
   "metadata": {},
   "outputs": [],
   "source": []
  },
  {
   "cell_type": "code",
   "execution_count": null,
   "id": "4d9c65e3",
   "metadata": {},
   "outputs": [],
   "source": []
  },
  {
   "cell_type": "code",
   "execution_count": null,
   "id": "42601b1b",
   "metadata": {},
   "outputs": [],
   "source": []
  },
  {
   "cell_type": "code",
   "execution_count": null,
   "id": "ebb79568",
   "metadata": {},
   "outputs": [],
   "source": []
  },
  {
   "cell_type": "code",
   "execution_count": null,
   "id": "e5a2bc0f",
   "metadata": {},
   "outputs": [],
   "source": []
  },
  {
   "cell_type": "code",
   "execution_count": null,
   "id": "194bc89d",
   "metadata": {},
   "outputs": [],
   "source": []
  },
  {
   "cell_type": "code",
   "execution_count": null,
   "id": "9e5df06e",
   "metadata": {},
   "outputs": [],
   "source": []
  },
  {
   "cell_type": "code",
   "execution_count": null,
   "id": "3c4069a7",
   "metadata": {},
   "outputs": [],
   "source": []
  },
  {
   "cell_type": "code",
   "execution_count": null,
   "id": "1c6a5ef6",
   "metadata": {},
   "outputs": [],
   "source": []
  },
  {
   "cell_type": "code",
   "execution_count": null,
   "id": "52b57ddc",
   "metadata": {},
   "outputs": [],
   "source": []
  },
  {
   "cell_type": "code",
   "execution_count": null,
   "id": "11ce14a8",
   "metadata": {},
   "outputs": [],
   "source": []
  },
  {
   "cell_type": "code",
   "execution_count": null,
   "id": "661b80a9",
   "metadata": {},
   "outputs": [],
   "source": []
  },
  {
   "cell_type": "code",
   "execution_count": null,
   "id": "45db5a99",
   "metadata": {},
   "outputs": [],
   "source": []
  },
  {
   "cell_type": "code",
   "execution_count": null,
   "id": "f759e90d",
   "metadata": {},
   "outputs": [],
   "source": []
  },
  {
   "cell_type": "code",
   "execution_count": null,
   "id": "6b3dc2be",
   "metadata": {},
   "outputs": [],
   "source": []
  },
  {
   "cell_type": "code",
   "execution_count": null,
   "id": "aad1898a",
   "metadata": {},
   "outputs": [],
   "source": []
  }
 ],
 "metadata": {
  "kernelspec": {
   "display_name": "Python 3 (ipykernel)",
   "language": "python",
   "name": "python3"
  },
  "language_info": {
   "codemirror_mode": {
    "name": "ipython",
    "version": 3
   },
   "file_extension": ".py",
   "mimetype": "text/x-python",
   "name": "python",
   "nbconvert_exporter": "python",
   "pygments_lexer": "ipython3",
   "version": "3.9.13"
  }
 },
 "nbformat": 4,
 "nbformat_minor": 5
}
