{
 "cells": [
  {
   "cell_type": "markdown",
   "id": "b930b693",
   "metadata": {},
   "source": [
    "# Reading, Closing, Writing to Files"
   ]
  },
  {
   "cell_type": "code",
   "execution_count": 2,
   "id": "8172c564",
   "metadata": {},
   "outputs": [
    {
     "name": "stdout",
     "output_type": "stream",
     "text": [
      "Hello! Thanks for reading me :)\n"
     ]
    }
   ],
   "source": [
    "read_file = open(r'C:\\Users\\alexf\\OneDrive\\Documents\\Python Tutorials\\FakeFile.txt', 'r')\n",
    "\n",
    "print(read_file.read())"
   ]
  },
  {
   "cell_type": "code",
   "execution_count": 3,
   "id": "c10c5da0",
   "metadata": {},
   "outputs": [
    {
     "data": {
      "text/plain": [
       "57"
      ]
     },
     "execution_count": 3,
     "metadata": {},
     "output_type": "execute_result"
    }
   ],
   "source": [
    "read_file2 = open(r'C:\\Users\\alexf\\OneDrive\\Documents\\Python Tutorials\\FakeFile.txt', 'w')\n",
    "\n",
    "read_file2.write('This is the first time I have written to a file in Python')"
   ]
  },
  {
   "cell_type": "code",
   "execution_count": 4,
   "id": "f2d959c2",
   "metadata": {},
   "outputs": [
    {
     "name": "stdout",
     "output_type": "stream",
     "text": [
      "\n"
     ]
    }
   ],
   "source": [
    "read_file = open(r'C:\\Users\\alexf\\OneDrive\\Documents\\Python Tutorials\\FakeFile.txt', 'r')\n",
    "\n",
    "print(read_file.read())"
   ]
  },
  {
   "cell_type": "code",
   "execution_count": 7,
   "id": "b238f0bc",
   "metadata": {},
   "outputs": [],
   "source": [
    "read_file.close()"
   ]
  },
  {
   "cell_type": "code",
   "execution_count": 8,
   "id": "98b6af25",
   "metadata": {},
   "outputs": [],
   "source": [
    "read_file2.close()"
   ]
  },
  {
   "cell_type": "code",
   "execution_count": 11,
   "id": "086f6d44",
   "metadata": {},
   "outputs": [],
   "source": [
    "read_file2 = open(r'C:\\Users\\alexf\\OneDrive\\Documents\\Python Tutorials\\FakeFile.txt', 'w')\n",
    "\n",
    "read_file2.write('This is the first time I have written to a file in Python')\n",
    "\n",
    "read_file2.close()"
   ]
  },
  {
   "cell_type": "code",
   "execution_count": 12,
   "id": "c1480f33",
   "metadata": {},
   "outputs": [
    {
     "name": "stdout",
     "output_type": "stream",
     "text": [
      "This is the first time I have written to a file in Python\n"
     ]
    }
   ],
   "source": [
    "read_file = open(r'C:\\Users\\alexf\\OneDrive\\Documents\\Python Tutorials\\FakeFile.txt', 'r')\n",
    "\n",
    "print(read_file.read())\n",
    "\n",
    "read_file.close()"
   ]
  },
  {
   "cell_type": "code",
   "execution_count": null,
   "id": "c1894429",
   "metadata": {},
   "outputs": [],
   "source": []
  },
  {
   "cell_type": "code",
   "execution_count": null,
   "id": "697c2302",
   "metadata": {},
   "outputs": [],
   "source": []
  },
  {
   "cell_type": "code",
   "execution_count": null,
   "id": "0bb96b13",
   "metadata": {},
   "outputs": [],
   "source": []
  },
  {
   "cell_type": "code",
   "execution_count": null,
   "id": "35b73ded",
   "metadata": {},
   "outputs": [],
   "source": []
  },
  {
   "cell_type": "code",
   "execution_count": null,
   "id": "954d2304",
   "metadata": {},
   "outputs": [],
   "source": []
  },
  {
   "cell_type": "code",
   "execution_count": null,
   "id": "d5b4a7d3",
   "metadata": {},
   "outputs": [],
   "source": []
  },
  {
   "cell_type": "code",
   "execution_count": null,
   "id": "501d0714",
   "metadata": {},
   "outputs": [],
   "source": []
  },
  {
   "cell_type": "code",
   "execution_count": null,
   "id": "553ef911",
   "metadata": {},
   "outputs": [],
   "source": []
  },
  {
   "cell_type": "code",
   "execution_count": null,
   "id": "da65b287",
   "metadata": {},
   "outputs": [],
   "source": []
  },
  {
   "cell_type": "code",
   "execution_count": null,
   "id": "06a9bfac",
   "metadata": {},
   "outputs": [],
   "source": []
  },
  {
   "cell_type": "code",
   "execution_count": null,
   "id": "f35e4378",
   "metadata": {},
   "outputs": [],
   "source": []
  },
  {
   "cell_type": "code",
   "execution_count": null,
   "id": "98665e41",
   "metadata": {},
   "outputs": [],
   "source": []
  },
  {
   "cell_type": "code",
   "execution_count": null,
   "id": "464a81cd",
   "metadata": {},
   "outputs": [],
   "source": []
  },
  {
   "cell_type": "code",
   "execution_count": null,
   "id": "7b153afb",
   "metadata": {},
   "outputs": [],
   "source": []
  },
  {
   "cell_type": "code",
   "execution_count": null,
   "id": "f89fe901",
   "metadata": {},
   "outputs": [],
   "source": []
  },
  {
   "cell_type": "code",
   "execution_count": null,
   "id": "ca417e47",
   "metadata": {},
   "outputs": [],
   "source": []
  },
  {
   "cell_type": "code",
   "execution_count": null,
   "id": "d52c003f",
   "metadata": {},
   "outputs": [],
   "source": []
  },
  {
   "cell_type": "code",
   "execution_count": null,
   "id": "988ddce7",
   "metadata": {},
   "outputs": [],
   "source": []
  },
  {
   "cell_type": "code",
   "execution_count": null,
   "id": "1249fa0b",
   "metadata": {},
   "outputs": [],
   "source": []
  },
  {
   "cell_type": "code",
   "execution_count": null,
   "id": "1f405a90",
   "metadata": {},
   "outputs": [],
   "source": []
  },
  {
   "cell_type": "code",
   "execution_count": null,
   "id": "37459507",
   "metadata": {},
   "outputs": [],
   "source": []
  }
 ],
 "metadata": {
  "kernelspec": {
   "display_name": "Python 3 (ipykernel)",
   "language": "python",
   "name": "python3"
  },
  "language_info": {
   "codemirror_mode": {
    "name": "ipython",
    "version": 3
   },
   "file_extension": ".py",
   "mimetype": "text/x-python",
   "name": "python",
   "nbconvert_exporter": "python",
   "pygments_lexer": "ipython3",
   "version": "3.9.13"
  }
 },
 "nbformat": 4,
 "nbformat_minor": 5
}
