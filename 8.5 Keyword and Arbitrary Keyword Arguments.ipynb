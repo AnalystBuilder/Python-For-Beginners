{
 "cells": [
  {
   "cell_type": "markdown",
   "id": "bf825219",
   "metadata": {},
   "source": [
    "# Keyword and Arbitrary Keyword Arguments"
   ]
  },
  {
   "cell_type": "code",
   "execution_count": 17,
   "id": "3e8b7658",
   "metadata": {},
   "outputs": [],
   "source": [
    "def number_squared_cust(number,power):\n",
    "    print(number**power)"
   ]
  },
  {
   "cell_type": "code",
   "execution_count": 18,
   "id": "5b04a48b",
   "metadata": {},
   "outputs": [
    {
     "name": "stdout",
     "output_type": "stream",
     "text": [
      "8\n"
     ]
    }
   ],
   "source": [
    "number_squared_cust(2,3)"
   ]
  },
  {
   "cell_type": "code",
   "execution_count": 20,
   "id": "2f55a4d6",
   "metadata": {},
   "outputs": [
    {
     "name": "stdout",
     "output_type": "stream",
     "text": [
      "9\n"
     ]
    }
   ],
   "source": [
    "number_squared_cust(power = 2,number = 3)"
   ]
  },
  {
   "cell_type": "code",
   "execution_count": 24,
   "id": "5eb590dc",
   "metadata": {},
   "outputs": [
    {
     "name": "stdout",
     "output_type": "stream",
     "text": [
      "9\n"
     ]
    }
   ],
   "source": [
    "number_squared_cust(3, power = 2)"
   ]
  },
  {
   "cell_type": "code",
   "execution_count": null,
   "id": "f3e6dc2f",
   "metadata": {},
   "outputs": [],
   "source": [
    "# *args\n",
    "# **Kwargs"
   ]
  },
  {
   "cell_type": "code",
   "execution_count": 25,
   "id": "bdd422a0",
   "metadata": {},
   "outputs": [],
   "source": [
    "def number_kwargs(**kwargs):\n",
    "    print(kwargs['Greeting'], kwargs['Name'])"
   ]
  },
  {
   "cell_type": "code",
   "execution_count": 26,
   "id": "798b2741",
   "metadata": {},
   "outputs": [
    {
     "name": "stdout",
     "output_type": "stream",
     "text": [
      "Howdy Alex\n"
     ]
    }
   ],
   "source": [
    "number_kwargs(Greeting = 'Howdy', Name = 'Alex')"
   ]
  },
  {
   "cell_type": "code",
   "execution_count": 27,
   "id": "d17d8d23",
   "metadata": {},
   "outputs": [],
   "source": [
    "def number_kwargs2(**Names):\n",
    "    for key, value in Names.items():\n",
    "        print(key + ': ' + value)"
   ]
  },
  {
   "cell_type": "code",
   "execution_count": 28,
   "id": "d74a8b58",
   "metadata": {},
   "outputs": [
    {
     "name": "stdout",
     "output_type": "stream",
     "text": [
      "Names: Alex\n",
      "Jeff: Jeff\n",
      "Names328: Johnny\n"
     ]
    }
   ],
   "source": [
    "number_kwargs2(Names = 'Alex', Jeff = 'Jeff', Names328 = 'Johnny')"
   ]
  },
  {
   "cell_type": "code",
   "execution_count": 29,
   "id": "b62df111",
   "metadata": {},
   "outputs": [
    {
     "name": "stdout",
     "output_type": "stream",
     "text": [
      "Names: Alex\n",
      "Jeff: Jeff\n",
      "Names328: Johnny\n"
     ]
    }
   ],
   "source": [
    "kwargs_dictionary = {'Names':'Alex','Jeff': 'Jeff', 'Names328': 'Johnny'}\n",
    "\n",
    "\n",
    "number_kwargs2(**kwargs_dictionary)"
   ]
  },
  {
   "cell_type": "code",
   "execution_count": 30,
   "id": "63d2ed78",
   "metadata": {},
   "outputs": [],
   "source": [
    "def wild_function(one, *two, **three):\n",
    "    print(one)\n",
    "    \n",
    "    print(two[0],two[1])\n",
    "    \n",
    "    print(three['Greeting'], three['Name'])"
   ]
  },
  {
   "cell_type": "code",
   "execution_count": 31,
   "id": "4a3ae7ff",
   "metadata": {},
   "outputs": [
    {
     "name": "stdout",
     "output_type": "stream",
     "text": [
      "Hello World!\n",
      "Welp! 1\n",
      "Hey Alex\n"
     ]
    }
   ],
   "source": [
    "wild_function('Hello World!', *['Welp!',1,'Howdy!'], Name = 'Alex', Greeting = 'Hey' )"
   ]
  },
  {
   "cell_type": "code",
   "execution_count": null,
   "id": "cffcdced",
   "metadata": {},
   "outputs": [],
   "source": []
  },
  {
   "cell_type": "code",
   "execution_count": null,
   "id": "ad1bd98c",
   "metadata": {},
   "outputs": [],
   "source": []
  },
  {
   "cell_type": "code",
   "execution_count": null,
   "id": "b58aa62d",
   "metadata": {},
   "outputs": [],
   "source": []
  },
  {
   "cell_type": "code",
   "execution_count": null,
   "id": "85b1094a",
   "metadata": {},
   "outputs": [],
   "source": []
  },
  {
   "cell_type": "code",
   "execution_count": null,
   "id": "3a09c5c2",
   "metadata": {},
   "outputs": [],
   "source": []
  },
  {
   "cell_type": "code",
   "execution_count": null,
   "id": "05295e5f",
   "metadata": {},
   "outputs": [],
   "source": []
  },
  {
   "cell_type": "code",
   "execution_count": null,
   "id": "c7abdcd8",
   "metadata": {},
   "outputs": [],
   "source": []
  },
  {
   "cell_type": "code",
   "execution_count": null,
   "id": "164cd1c9",
   "metadata": {},
   "outputs": [],
   "source": []
  },
  {
   "cell_type": "code",
   "execution_count": null,
   "id": "a7c6c996",
   "metadata": {},
   "outputs": [],
   "source": []
  },
  {
   "cell_type": "code",
   "execution_count": null,
   "id": "19ea20f2",
   "metadata": {},
   "outputs": [],
   "source": []
  },
  {
   "cell_type": "code",
   "execution_count": null,
   "id": "7b712101",
   "metadata": {},
   "outputs": [],
   "source": []
  },
  {
   "cell_type": "code",
   "execution_count": null,
   "id": "004eecf1",
   "metadata": {},
   "outputs": [],
   "source": []
  },
  {
   "cell_type": "code",
   "execution_count": null,
   "id": "cb99eb3c",
   "metadata": {},
   "outputs": [],
   "source": []
  },
  {
   "cell_type": "code",
   "execution_count": null,
   "id": "a9cdea76",
   "metadata": {},
   "outputs": [],
   "source": []
  },
  {
   "cell_type": "code",
   "execution_count": null,
   "id": "30d5c3d4",
   "metadata": {},
   "outputs": [],
   "source": []
  },
  {
   "cell_type": "code",
   "execution_count": null,
   "id": "ddada51f",
   "metadata": {},
   "outputs": [],
   "source": []
  },
  {
   "cell_type": "code",
   "execution_count": null,
   "id": "8311f1aa",
   "metadata": {},
   "outputs": [],
   "source": []
  },
  {
   "cell_type": "code",
   "execution_count": null,
   "id": "02048cd9",
   "metadata": {},
   "outputs": [],
   "source": []
  }
 ],
 "metadata": {
  "kernelspec": {
   "display_name": "Python 3 (ipykernel)",
   "language": "python",
   "name": "python3"
  },
  "language_info": {
   "codemirror_mode": {
    "name": "ipython",
    "version": 3
   },
   "file_extension": ".py",
   "mimetype": "text/x-python",
   "name": "python",
   "nbconvert_exporter": "python",
   "pygments_lexer": "ipython3",
   "version": "3.9.13"
  }
 },
 "nbformat": 4,
 "nbformat_minor": 5
}
